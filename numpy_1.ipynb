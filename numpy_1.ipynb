{
 "cells": [
  {
   "cell_type": "markdown",
   "metadata": {},
   "source": [
    "# Introdução ao Numpy - 1\n",
    "## Leonardo Yves de Souza Melo\n",
    "### (21)971771433 | prof.leoyves@gmail.com\n",
    "## Fontes:\n",
    "### 1) Python for Data Analysis - Wes McKinney; capítulo 4\n",
    "### 2) Python for Finance - Yves Hilspisch; capítulo 4"
   ]
  },
  {
   "cell_type": "markdown",
   "metadata": {},
   "source": [
    "# Bibliotecas"
   ]
  },
  {
   "cell_type": "code",
   "execution_count": 1,
   "metadata": {},
   "outputs": [],
   "source": [
    "import numpy as np"
   ]
  },
  {
   "cell_type": "markdown",
   "metadata": {},
   "source": [
    "## Construção de arrays"
   ]
  },
  {
   "cell_type": "code",
   "execution_count": 2,
   "metadata": {},
   "outputs": [],
   "source": [
    "# vetor de 10 coordenadas inteiras variando entre 10 e 50\n",
    "np.random.seed(42)\n",
    "a = np.random.randint(10,50,10)"
   ]
  },
  {
   "cell_type": "code",
   "execution_count": 3,
   "metadata": {},
   "outputs": [
    {
     "data": {
      "text/plain": [
       "array([48, 38, 24, 17, 30, 48, 28, 32, 20, 20])"
      ]
     },
     "execution_count": 3,
     "metadata": {},
     "output_type": "execute_result"
    }
   ],
   "source": [
    "a"
   ]
  },
  {
   "cell_type": "code",
   "execution_count": 4,
   "metadata": {},
   "outputs": [
    {
     "data": {
      "text/plain": [
       "305"
      ]
     },
     "execution_count": 4,
     "metadata": {},
     "output_type": "execute_result"
    }
   ],
   "source": [
    "# soma de todas as coordenadas do array\n",
    "a.sum()"
   ]
  },
  {
   "cell_type": "code",
   "execution_count": 5,
   "metadata": {},
   "outputs": [
    {
     "data": {
      "text/plain": [
       "10.594810050208546"
      ]
     },
     "execution_count": 5,
     "metadata": {},
     "output_type": "execute_result"
    }
   ],
   "source": [
    "# considerando o array uma amostra, retorna o valor do desvio padrão\n",
    "a.std()"
   ]
  },
  {
   "cell_type": "code",
   "execution_count": 6,
   "metadata": {},
   "outputs": [
    {
     "data": {
      "text/plain": [
       "array([ 48,  86, 110, 127, 157, 205, 233, 265, 285, 305], dtype=int32)"
      ]
     },
     "execution_count": 6,
     "metadata": {},
     "output_type": "execute_result"
    }
   ],
   "source": [
    "# soma cumulativa das coordenadas do array\n",
    "a.cumsum()"
   ]
  },
  {
   "cell_type": "markdown",
   "metadata": {},
   "source": [
    "Abaixo, temos o array ``b``, construído a partir do array ``a``. Em que cada coordenada do array ``b``, é obtida por meio de operações matemáticas vetorizadas sobre o array ``a``. Sendo o array ``a`` a representação de um vetor de 10 coordenadas, o array ``b`` representa uma matriz, que tanto pode ser $3\\times 10$, quanto $10\\times 3$ no caso abaixo, o resultado foi uma matriz $3\\times 10$"
   ]
  },
  {
   "cell_type": "code",
   "execution_count": 7,
   "metadata": {},
   "outputs": [],
   "source": [
    "b = np.array([a,a*2,a/2])"
   ]
  },
  {
   "cell_type": "code",
   "execution_count": 8,
   "metadata": {},
   "outputs": [
    {
     "data": {
      "text/plain": [
       "array([[48. , 38. , 24. , 17. , 30. , 48. , 28. , 32. , 20. , 20. ],\n",
       "       [96. , 76. , 48. , 34. , 60. , 96. , 56. , 64. , 40. , 40. ],\n",
       "       [24. , 19. , 12. ,  8.5, 15. , 24. , 14. , 16. , 10. , 10. ]])"
      ]
     },
     "execution_count": 8,
     "metadata": {},
     "output_type": "execute_result"
    }
   ],
   "source": [
    "b"
   ]
  },
  {
   "cell_type": "code",
   "execution_count": 9,
   "metadata": {},
   "outputs": [
    {
     "data": {
      "text/plain": [
       "array([48., 38., 24., 17., 30., 48., 28., 32., 20., 20.])"
      ]
     },
     "execution_count": 9,
     "metadata": {},
     "output_type": "execute_result"
    }
   ],
   "source": [
    "# selecionando todos os elementos da primeira componente do array \n",
    "# primeira linha da matriz\n",
    "b[0]"
   ]
  },
  {
   "cell_type": "code",
   "execution_count": 10,
   "metadata": {},
   "outputs": [
    {
     "data": {
      "text/plain": [
       "(24.0, 24.0)"
      ]
     },
     "execution_count": 10,
     "metadata": {},
     "output_type": "execute_result"
    }
   ],
   "source": [
    "# duas formas diferentes de selecionar o terceiro elemento da primeira componente\n",
    "# elemento da primeira e terceira coluna da matriz\n",
    "b[0,2], b[0][2]"
   ]
  },
  {
   "cell_type": "code",
   "execution_count": 11,
   "metadata": {},
   "outputs": [
    {
     "data": {
      "text/plain": [
       "array([38., 76., 19.])"
      ]
     },
     "execution_count": 11,
     "metadata": {},
     "output_type": "execute_result"
    }
   ],
   "source": [
    "# selecionando simultaneamente o segundo elemento das três componentes do array\n",
    "# pensando matricialmente, é a escolha da segunda coluna da matriz \n",
    "b[:,1]"
   ]
  },
  {
   "cell_type": "code",
   "execution_count": 12,
   "metadata": {},
   "outputs": [
    {
     "data": {
      "text/plain": [
       "array([168. , 133. ,  84. ,  59.5, 105. , 168. ,  98. , 112. ,  70. ,\n",
       "        70. ])"
      ]
     },
     "execution_count": 12,
     "metadata": {},
     "output_type": "execute_result"
    }
   ],
   "source": [
    "# soma dos elementos de cada coluna (axis=0 <--> coluna)\n",
    "b.sum(axis=0)"
   ]
  },
  {
   "cell_type": "code",
   "execution_count": 13,
   "metadata": {},
   "outputs": [
    {
     "data": {
      "text/plain": [
       "array([305. , 610. , 152.5])"
      ]
     },
     "execution_count": 13,
     "metadata": {},
     "output_type": "execute_result"
    }
   ],
   "source": [
    "# soma dos elementos de cada linha (axis=1 <--> linha)\n",
    "b.sum(axis=1)"
   ]
  },
  {
   "cell_type": "code",
   "execution_count": 14,
   "metadata": {},
   "outputs": [
    {
     "data": {
      "text/plain": [
       "(1067.5, 1067.5, 1067.5)"
      ]
     },
     "execution_count": 14,
     "metadata": {},
     "output_type": "execute_result"
    }
   ],
   "source": [
    "# soma de todos os elementos das três componentes\n",
    "b.sum(), b.sum(axis=1).sum(), b.sum(axis=0).sum()"
   ]
  },
  {
   "cell_type": "code",
   "execution_count": 15,
   "metadata": {},
   "outputs": [
    {
     "data": {
      "text/plain": [
       "array([[0., 0., 0.],\n",
       "       [0., 0., 0.]])"
      ]
     },
     "execution_count": 15,
     "metadata": {},
     "output_type": "execute_result"
    }
   ],
   "source": [
    "# array de 2 linhas e 3 colunas, com entradas nulas e do tipo float\n",
    "np.zeros((2,3))"
   ]
  },
  {
   "cell_type": "code",
   "execution_count": 16,
   "metadata": {},
   "outputs": [
    {
     "data": {
      "text/plain": [
       "array([[0, 0, 0],\n",
       "       [0, 0, 0]], dtype=int32)"
      ]
     },
     "execution_count": 16,
     "metadata": {},
     "output_type": "execute_result"
    }
   ],
   "source": [
    "# array de 2 linhas e 3 colunas, com entradas nulas e do tipo integer \n",
    "np.zeros((2,3),dtype='i')"
   ]
  },
  {
   "cell_type": "code",
   "execution_count": 17,
   "metadata": {},
   "outputs": [
    {
     "data": {
      "text/plain": [
       "array([[False, False, False],\n",
       "       [False, False, False]])"
      ]
     },
     "execution_count": 17,
     "metadata": {},
     "output_type": "execute_result"
    }
   ],
   "source": [
    "# array de 2 linhas e 3 colunas, com entradas nulas do tipo bool\n",
    "np.zeros((2,3),dtype='?')"
   ]
  },
  {
   "cell_type": "code",
   "execution_count": 18,
   "metadata": {},
   "outputs": [
    {
     "data": {
      "text/plain": [
       "array([[0., 0., 0., 0., 0., 0., 0., 0., 0., 0.],\n",
       "       [0., 0., 0., 0., 0., 0., 0., 0., 0., 0.],\n",
       "       [0., 0., 0., 0., 0., 0., 0., 0., 0., 0.]])"
      ]
     },
     "execution_count": 18,
     "metadata": {},
     "output_type": "execute_result"
    }
   ],
   "source": [
    "# array com as mesmas dimensões do array b, com todas as entradas nulas\n",
    "np.zeros_like(b)"
   ]
  },
  {
   "cell_type": "code",
   "execution_count": 19,
   "metadata": {},
   "outputs": [
    {
     "data": {
      "text/plain": [
       "array([[1., 1.],\n",
       "       [1., 1.],\n",
       "       [1., 1.]])"
      ]
     },
     "execution_count": 19,
     "metadata": {},
     "output_type": "execute_result"
    }
   ],
   "source": [
    "# array de 3 linhas e 2 colunas, com entradas unitárias \n",
    "np.ones((3,2))"
   ]
  },
  {
   "cell_type": "code",
   "execution_count": 20,
   "metadata": {},
   "outputs": [
    {
     "data": {
      "text/plain": [
       "array([[1, 1],\n",
       "       [1, 1],\n",
       "       [1, 1]], dtype=int32)"
      ]
     },
     "execution_count": 20,
     "metadata": {},
     "output_type": "execute_result"
    }
   ],
   "source": [
    "# array de 3 linhas e 2 colunas, com entradas unitárias e inteiras\n",
    "np.ones((3,2),dtype='i')"
   ]
  },
  {
   "cell_type": "code",
   "execution_count": 21,
   "metadata": {},
   "outputs": [
    {
     "data": {
      "text/plain": [
       "array([[ True,  True],\n",
       "       [ True,  True],\n",
       "       [ True,  True]])"
      ]
     },
     "execution_count": 21,
     "metadata": {},
     "output_type": "execute_result"
    }
   ],
   "source": [
    "# array de 3 linhas e 2 colunas, com entradas unitárias do tipo bool\n",
    "np.ones((3,2),dtype='?')"
   ]
  },
  {
   "cell_type": "code",
   "execution_count": 22,
   "metadata": {},
   "outputs": [
    {
     "data": {
      "text/plain": [
       "(array([[1., 0., 0.],\n",
       "        [0., 1., 0.],\n",
       "        [0., 0., 1.]]),\n",
       " array([[1., 0., 0.],\n",
       "        [0., 1., 0.],\n",
       "        [0., 0., 1.]]))"
      ]
     },
     "execution_count": 22,
     "metadata": {},
     "output_type": "execute_result"
    }
   ],
   "source": [
    "# array representando a matriz identidade 3x3, com entradas do tipo float\n",
    "np.eye(3),np.identity(3)"
   ]
  },
  {
   "cell_type": "code",
   "execution_count": 23,
   "metadata": {},
   "outputs": [
    {
     "data": {
      "text/plain": [
       "(array([[ True, False, False],\n",
       "        [False,  True, False],\n",
       "        [False, False,  True]]),\n",
       " array([[ True, False, False],\n",
       "        [False,  True, False],\n",
       "        [False, False,  True]]))"
      ]
     },
     "execution_count": 23,
     "metadata": {},
     "output_type": "execute_result"
    }
   ],
   "source": [
    "# array representando a matriz identidade 3x3, com entradas do tipo bool\n",
    "np.eye(3,dtype='?'),np.identity(3,dtype=\"?\")"
   ]
  },
  {
   "cell_type": "code",
   "execution_count": 24,
   "metadata": {},
   "outputs": [
    {
     "data": {
      "text/plain": [
       "array([['léo yves', 'léo yves', 'léo yves', 'léo yves', 'léo yves'],\n",
       "       ['léo yves', 'léo yves', 'léo yves', 'léo yves', 'léo yves'],\n",
       "       ['léo yves', 'léo yves', 'léo yves', 'léo yves', 'léo yves']],\n",
       "      dtype='<U8')"
      ]
     },
     "execution_count": 24,
     "metadata": {},
     "output_type": "execute_result"
    }
   ],
   "source": [
    "# array de 3 linhas e 5 colunas, com todas as entradas iguais\n",
    "np.full((3,5),'léo yves')"
   ]
  },
  {
   "cell_type": "markdown",
   "metadata": {},
   "source": [
    "array com o mesmo shape do array b, com todas as entradas iguais ao objeto presente no segundo argumento da função `np.full_like`"
   ]
  },
  {
   "cell_type": "code",
   "execution_count": 25,
   "metadata": {},
   "outputs": [
    {
     "data": {
      "text/plain": [
       "array([[2., 2., 2., 2., 2., 2., 2., 2., 2., 2.],\n",
       "       [2., 2., 2., 2., 2., 2., 2., 2., 2., 2.],\n",
       "       [2., 2., 2., 2., 2., 2., 2., 2., 2., 2.]])"
      ]
     },
     "execution_count": 25,
     "metadata": {},
     "output_type": "execute_result"
    }
   ],
   "source": [
    "np.full_like(b,2)"
   ]
  },
  {
   "cell_type": "markdown",
   "metadata": {},
   "source": [
    "## Reshape and resizing"
   ]
  },
  {
   "cell_type": "code",
   "execution_count": 26,
   "metadata": {},
   "outputs": [
    {
     "name": "stdout",
     "output_type": "stream",
     "text": [
      "(3, 1) (3,)\n"
     ]
    },
    {
     "data": {
      "text/plain": [
       "(array([[ 0.27904129],\n",
       "        [ 1.01051528],\n",
       "        [-0.58087813]]),\n",
       " array([-0.52516981, -0.57138017, -0.92408284]))"
      ]
     },
     "execution_count": 26,
     "metadata": {},
     "output_type": "execute_result"
    }
   ],
   "source": [
    "x = np.random.randn(3,1) # vetor coluna, matriz 3x1\n",
    "y = np.random.randn(3) # vetor do R^3\n",
    "print(np.shape(x),np.shape(y))\n",
    "x,y"
   ]
  },
  {
   "cell_type": "code",
   "execution_count": 27,
   "metadata": {},
   "outputs": [
    {
     "name": "stdout",
     "output_type": "stream",
     "text": [
      "(15,) (15,)\n"
     ]
    }
   ],
   "source": [
    "# verificação do formato do array\n",
    "g = np.arange(15)\n",
    "print(g.shape,np.shape(g))"
   ]
  },
  {
   "cell_type": "code",
   "execution_count": 28,
   "metadata": {},
   "outputs": [
    {
     "data": {
      "text/plain": [
       "array([[ 0,  1,  2,  3,  4],\n",
       "       [ 5,  6,  7,  8,  9],\n",
       "       [10, 11, 12, 13, 14]])"
      ]
     },
     "execution_count": 28,
     "metadata": {},
     "output_type": "execute_result"
    }
   ],
   "source": [
    "# transformação de um vetor do R^15 em uma matriz 3x5\n",
    "g.reshape((3,5))"
   ]
  },
  {
   "cell_type": "code",
   "execution_count": 29,
   "metadata": {},
   "outputs": [],
   "source": [
    "# matriz h com 5 linhas e 3 colunas, com os mesmos elementos de g\n",
    "h = g.reshape((5,3))"
   ]
  },
  {
   "cell_type": "code",
   "execution_count": 30,
   "metadata": {},
   "outputs": [
    {
     "data": {
      "text/plain": [
       "(array([[ 0,  1,  2],\n",
       "        [ 3,  4,  5],\n",
       "        [ 6,  7,  8],\n",
       "        [ 9, 10, 11],\n",
       "        [12, 13, 14]]),\n",
       " array([[ 0,  3,  6,  9, 12],\n",
       "        [ 1,  4,  7, 10, 13],\n",
       "        [ 2,  5,  8, 11, 14]]),\n",
       " array([[ 0,  3,  6,  9, 12],\n",
       "        [ 1,  4,  7, 10, 13],\n",
       "        [ 2,  5,  8, 11, 14]]))"
      ]
     },
     "execution_count": 30,
     "metadata": {},
     "output_type": "execute_result"
    }
   ],
   "source": [
    "# matriz h e a sua transposta h.T\n",
    "h,h.T,h.transpose()"
   ]
  },
  {
   "cell_type": "code",
   "execution_count": 31,
   "metadata": {},
   "outputs": [
    {
     "data": {
      "text/plain": [
       "array([[0],\n",
       "       [1],\n",
       "       [2]])"
      ]
     },
     "execution_count": 31,
     "metadata": {},
     "output_type": "execute_result"
    }
   ],
   "source": [
    "# transformação do vetor do R^15 em uma matriz 3x1 ignorando as outras entradas\n",
    "np.resize(g,(3,1))"
   ]
  },
  {
   "cell_type": "code",
   "execution_count": 32,
   "metadata": {},
   "outputs": [
    {
     "data": {
      "text/plain": [
       "array([[0, 1, 2, 3, 4]])"
      ]
     },
     "execution_count": 32,
     "metadata": {},
     "output_type": "execute_result"
    }
   ],
   "source": [
    "# transformação do vetor do R^15 em uma matriz 1x5 ignorando as outras entradas\n",
    "np.resize(g,(1,5))"
   ]
  },
  {
   "cell_type": "markdown",
   "metadata": {},
   "source": [
    "Em cada linha da matriz h foram adicionados os elementos referentes ao array `2*h`, deixando o array com shape (5,6). Também podemos pensar em termos de adição de colunas, como se a matriz `2*h` fosse simplesmente colada ao lado da matriz `h`.\n",
    "\n",
    "`h.shape = (5,3)`"
   ]
  },
  {
   "cell_type": "code",
   "execution_count": 33,
   "metadata": {},
   "outputs": [
    {
     "data": {
      "text/plain": [
       "(array([[ 0,  1,  2],\n",
       "        [ 3,  4,  5],\n",
       "        [ 6,  7,  8],\n",
       "        [ 9, 10, 11],\n",
       "        [12, 13, 14]]),\n",
       " array([[ 0,  2,  4],\n",
       "        [ 6,  8, 10],\n",
       "        [12, 14, 16],\n",
       "        [18, 20, 22],\n",
       "        [24, 26, 28]]),\n",
       " array([[ 0,  1,  2,  0,  2,  4],\n",
       "        [ 3,  4,  5,  6,  8, 10],\n",
       "        [ 6,  7,  8, 12, 14, 16],\n",
       "        [ 9, 10, 11, 18, 20, 22],\n",
       "        [12, 13, 14, 24, 26, 28]]),\n",
       " (5, 6))"
      ]
     },
     "execution_count": 33,
     "metadata": {},
     "output_type": "execute_result"
    }
   ],
   "source": [
    "h,2*h,np.hstack((h,2*h)),np.hstack((h,2*h)).shape"
   ]
  },
  {
   "cell_type": "markdown",
   "metadata": {},
   "source": [
    "Em cada coluna da matriz h foram adicionados os elementos referentes à matriz `0.5*h` deixando o array com shape (10,3). Podemos pensar que a matriz `0.5*h` foi colada no sentido vertical na matriz `h`.\n",
    "`h.shape = (5,3)`"
   ]
  },
  {
   "cell_type": "code",
   "execution_count": 34,
   "metadata": {
    "scrolled": false
   },
   "outputs": [
    {
     "data": {
      "text/plain": [
       "(array([[ 0. ,  1. ,  2. ],\n",
       "        [ 3. ,  4. ,  5. ],\n",
       "        [ 6. ,  7. ,  8. ],\n",
       "        [ 9. , 10. , 11. ],\n",
       "        [12. , 13. , 14. ],\n",
       "        [ 0. ,  0.5,  1. ],\n",
       "        [ 1.5,  2. ,  2.5],\n",
       "        [ 3. ,  3.5,  4. ],\n",
       "        [ 4.5,  5. ,  5.5],\n",
       "        [ 6. ,  6.5,  7. ]]),\n",
       " (10, 3))"
      ]
     },
     "execution_count": 34,
     "metadata": {},
     "output_type": "execute_result"
    }
   ],
   "source": [
    "np.vstack((h,0.5*h)),np.vstack((h,0.5*h)).shape"
   ]
  },
  {
   "cell_type": "code",
   "execution_count": 35,
   "metadata": {},
   "outputs": [
    {
     "data": {
      "text/plain": [
       "array([ 0,  1,  2,  3,  4,  5,  6,  7,  8,  9, 10, 11, 12, 13, 14])"
      ]
     },
     "execution_count": 35,
     "metadata": {},
     "output_type": "execute_result"
    }
   ],
   "source": [
    "# \"planificação\" da matriz seguindo as linhas \n",
    "h.flatten()"
   ]
  },
  {
   "cell_type": "code",
   "execution_count": 36,
   "metadata": {},
   "outputs": [
    {
     "data": {
      "text/plain": [
       "(array([ 0,  1,  2,  3,  4,  5,  6,  7,  8,  9, 10, 11, 12, 13, 14]),\n",
       " array([ 0,  3,  6,  9, 12,  1,  4,  7, 10, 13,  2,  5,  8, 11, 14]))"
      ]
     },
     "execution_count": 36,
     "metadata": {},
     "output_type": "execute_result"
    }
   ],
   "source": [
    "# order='C' é o argumento default do método\n",
    "# order='F' planifica a matriz indo pelas colunas\n",
    "h.flatten(order='C'),h.flatten(order='F')"
   ]
  },
  {
   "cell_type": "code",
   "execution_count": 37,
   "metadata": {},
   "outputs": [
    {
     "name": "stdout",
     "output_type": "stream",
     "text": [
      "[0 1 2]\n",
      "[3 4 5]\n",
      "[6 7 8]\n",
      "[ 9 10 11]\n",
      "[12 13 14]\n",
      "0\n",
      "1\n",
      "2\n",
      "3\n",
      "4\n",
      "5\n",
      "6\n",
      "7\n",
      "8\n",
      "9\n",
      "10\n",
      "11\n",
      "12\n",
      "13\n",
      "14\n"
     ]
    }
   ],
   "source": [
    "# iterador normal, mostra cada linha \n",
    "for i in h:\n",
    "    print(i)\n",
    "# mostra os elementos do array planificado\n",
    "for i in h.flat:\n",
    "    print(i)"
   ]
  },
  {
   "cell_type": "markdown",
   "metadata": {},
   "source": [
    "## Indexação Booleana"
   ]
  },
  {
   "cell_type": "code",
   "execution_count": 38,
   "metadata": {},
   "outputs": [
    {
     "data": {
      "text/plain": [
       "(array([[False, False, False],\n",
       "        [False, False, False],\n",
       "        [False, False, False],\n",
       "        [ True,  True,  True],\n",
       "        [ True,  True,  True]]),\n",
       " array([[ True,  True,  True],\n",
       "        [ True,  True,  True],\n",
       "        [ True,  True, False],\n",
       "        [False, False, False],\n",
       "        [False, False, False]]),\n",
       " array([[False, False, False],\n",
       "        [False, False,  True],\n",
       "        [False, False, False],\n",
       "        [False, False, False],\n",
       "        [False, False, False]]))"
      ]
     },
     "execution_count": 38,
     "metadata": {},
     "output_type": "execute_result"
    }
   ],
   "source": [
    "# arrays booleanos\n",
    "h>8, h<=7, h==5"
   ]
  },
  {
   "cell_type": "code",
   "execution_count": 39,
   "metadata": {},
   "outputs": [
    {
     "data": {
      "text/plain": [
       "array([[0, 0, 0],\n",
       "       [0, 0, 1],\n",
       "       [0, 0, 0],\n",
       "       [0, 0, 0],\n",
       "       [0, 0, 0]])"
      ]
     },
     "execution_count": 39,
     "metadata": {},
     "output_type": "execute_result"
    }
   ],
   "source": [
    "# coverte os valores booleanos em valores inteiros\n",
    "(h==5).astype(int)"
   ]
  },
  {
   "cell_type": "code",
   "execution_count": 40,
   "metadata": {},
   "outputs": [
    {
     "data": {
      "text/plain": [
       "array([[False, False, False],\n",
       "       [False, False,  True],\n",
       "       [ True,  True,  True],\n",
       "       [ True,  True,  True],\n",
       "       [ True, False, False]])"
      ]
     },
     "execution_count": 40,
     "metadata": {},
     "output_type": "execute_result"
    }
   ],
   "source": [
    "# duas condições simultâneas\n",
    "(h>4) & (h<= 12)"
   ]
  },
  {
   "cell_type": "code",
   "execution_count": 41,
   "metadata": {},
   "outputs": [
    {
     "data": {
      "text/plain": [
       "array([ 9, 10, 11, 12, 13, 14])"
      ]
     },
     "execution_count": 41,
     "metadata": {},
     "output_type": "execute_result"
    }
   ],
   "source": [
    "# todos os elementos da matriz h que atendem o critério \n",
    "h[h>8]"
   ]
  },
  {
   "cell_type": "code",
   "execution_count": 42,
   "metadata": {},
   "outputs": [
    {
     "data": {
      "text/plain": [
       "array([ 5,  6,  7,  8,  9, 10, 11, 12])"
      ]
     },
     "execution_count": 42,
     "metadata": {},
     "output_type": "execute_result"
    }
   ],
   "source": [
    "# todos os elementos da matriz h que atendem aos dois critérios simultaneamente\n",
    "h[(h>4)&(h<=12)]"
   ]
  },
  {
   "cell_type": "code",
   "execution_count": 43,
   "metadata": {},
   "outputs": [
    {
     "data": {
      "text/plain": [
       "array([ 0,  1,  2,  3, 12, 13, 14])"
      ]
     },
     "execution_count": 43,
     "metadata": {},
     "output_type": "execute_result"
    }
   ],
   "source": [
    "# todos os elementos da matriz h que atendem pelo menos um dos critérios\n",
    "h[(h<4)|(h>=12)]"
   ]
  },
  {
   "cell_type": "markdown",
   "metadata": {},
   "source": [
    "`h>7`: array booleano"
   ]
  },
  {
   "cell_type": "code",
   "execution_count": 44,
   "metadata": {},
   "outputs": [
    {
     "data": {
      "text/plain": [
       "array([[False, False, False],\n",
       "       [False, False, False],\n",
       "       [False, False,  True],\n",
       "       [ True,  True,  True],\n",
       "       [ True,  True,  True]])"
      ]
     },
     "execution_count": 44,
     "metadata": {},
     "output_type": "execute_result"
    }
   ],
   "source": [
    "h>7"
   ]
  },
  {
   "cell_type": "markdown",
   "metadata": {},
   "source": [
    "`h[h>7]`: indexação por uma condição lógica ou simplesmente indexação booleana"
   ]
  },
  {
   "cell_type": "code",
   "execution_count": 45,
   "metadata": {},
   "outputs": [
    {
     "data": {
      "text/plain": [
       "array([ 8,  9, 10, 11, 12, 13, 14])"
      ]
     },
     "execution_count": 45,
     "metadata": {},
     "output_type": "execute_result"
    }
   ],
   "source": [
    "h[h>7]"
   ]
  },
  {
   "cell_type": "markdown",
   "metadata": {},
   "source": [
    "`np.where(h>7,'léo','yves')`: no array booleano `h>7`, nos elementos com valor lógico `False` é feita a substituição pela `string` `yves`, e nas entradas com valor lógico `True` é feita a substituição por `léo`."
   ]
  },
  {
   "cell_type": "code",
   "execution_count": 46,
   "metadata": {},
   "outputs": [
    {
     "data": {
      "text/plain": [
       "array([['yves', 'yves', 'yves'],\n",
       "       ['yves', 'yves', 'yves'],\n",
       "       ['yves', 'yves', 'léo'],\n",
       "       ['léo', 'léo', 'léo'],\n",
       "       ['léo', 'léo', 'léo']], dtype='<U4')"
      ]
     },
     "execution_count": 46,
     "metadata": {},
     "output_type": "execute_result"
    }
   ],
   "source": [
    "np.where(h>7,'léo','yves')"
   ]
  }
 ],
 "metadata": {
  "kernelspec": {
   "display_name": "Python 3",
   "language": "python",
   "name": "python3"
  },
  "language_info": {
   "codemirror_mode": {
    "name": "ipython",
    "version": 3
   },
   "file_extension": ".py",
   "mimetype": "text/x-python",
   "name": "python",
   "nbconvert_exporter": "python",
   "pygments_lexer": "ipython3",
   "version": "3.7.6"
  }
 },
 "nbformat": 4,
 "nbformat_minor": 4
}
