{
 "cells": [
  {
   "cell_type": "markdown",
   "metadata": {},
   "source": [
    "# Introdução ao Numpy - 3\n",
    "## Leonardo Yves de Souza Melo\n",
    "### (21)971771433 | prof.leoyves@gmail.com\n",
    "## Fontes:\n",
    "### 1) Python for Data Analysis - Wes McKinney; capítulo 4\n",
    "### 2) Python for Finance - Yves Hilspisch; capítulo 4"
   ]
  },
  {
   "cell_type": "markdown",
   "metadata": {},
   "source": [
    "# Bibliotecas"
   ]
  },
  {
   "cell_type": "code",
   "execution_count": 1,
   "metadata": {},
   "outputs": [],
   "source": [
    "import numpy as np"
   ]
  },
  {
   "cell_type": "markdown",
   "metadata": {},
   "source": [
    "## Álgebra Linear no python "
   ]
  },
  {
   "cell_type": "code",
   "execution_count": 2,
   "metadata": {},
   "outputs": [
    {
     "data": {
      "text/plain": [
       "(2, 3)"
      ]
     },
     "metadata": {},
     "output_type": "display_data"
    },
    {
     "data": {
      "text/plain": [
       "(3, 2)"
      ]
     },
     "metadata": {},
     "output_type": "display_data"
    }
   ],
   "source": [
    "x = np.arange(1,7).reshape((2,3))\n",
    "y = np.array([[6,23],[-1,7],[8,9]])\n",
    "display(x.shape,y.shape)"
   ]
  },
  {
   "cell_type": "code",
   "execution_count": 3,
   "metadata": {},
   "outputs": [
    {
     "data": {
      "text/plain": [
       "array([[1, 2, 3],\n",
       "       [4, 5, 6]])"
      ]
     },
     "metadata": {},
     "output_type": "display_data"
    },
    {
     "data": {
      "text/plain": [
       "array([[ 6, 23],\n",
       "       [-1,  7],\n",
       "       [ 8,  9]])"
      ]
     },
     "metadata": {},
     "output_type": "display_data"
    }
   ],
   "source": [
    "display(x,y)"
   ]
  },
  {
   "cell_type": "code",
   "execution_count": 4,
   "metadata": {},
   "outputs": [
    {
     "data": {
      "text/plain": [
       "array([[ 28,  64],\n",
       "       [ 67, 181]])"
      ]
     },
     "metadata": {},
     "output_type": "display_data"
    },
    {
     "data": {
      "text/plain": [
       "array([[ 28,  64],\n",
       "       [ 67, 181]])"
      ]
     },
     "metadata": {},
     "output_type": "display_data"
    },
    {
     "data": {
      "text/plain": [
       "array([[ 28,  64],\n",
       "       [ 67, 181]])"
      ]
     },
     "metadata": {},
     "output_type": "display_data"
    }
   ],
   "source": [
    "# diferentes formas de calcular produto matricial \n",
    "display(x.dot(y),np.dot(x,y),x@y)"
   ]
  },
  {
   "cell_type": "code",
   "execution_count": 5,
   "metadata": {},
   "outputs": [
    {
     "data": {
      "text/plain": [
       "(array([[1],\n",
       "        [2],\n",
       "        [3],\n",
       "        [4]]),\n",
       " array([[1., 0., 0., 0.],\n",
       "        [0., 1., 0., 0.],\n",
       "        [0., 0., 1., 0.],\n",
       "        [0., 0., 0., 1.]]))"
      ]
     },
     "execution_count": 5,
     "metadata": {},
     "output_type": "execute_result"
    }
   ],
   "source": [
    "np.arange(1,5).reshape(4,1),np.eye(4)"
   ]
  },
  {
   "cell_type": "code",
   "execution_count": 6,
   "metadata": {},
   "outputs": [
    {
     "data": {
      "text/plain": [
       "array([[1.],\n",
       "       [2.],\n",
       "       [3.],\n",
       "       [4.]])"
      ]
     },
     "execution_count": 6,
     "metadata": {},
     "output_type": "execute_result"
    }
   ],
   "source": [
    "# produto matricial Ix=x (I é matriz identidade)\n",
    "np.dot(np.eye(4),np.arange(1,5).reshape(4,1))"
   ]
  },
  {
   "cell_type": "code",
   "execution_count": 7,
   "metadata": {},
   "outputs": [
    {
     "data": {
      "text/plain": [
       "array([[1.],\n",
       "       [2.],\n",
       "       [3.],\n",
       "       [4.]])"
      ]
     },
     "execution_count": 7,
     "metadata": {},
     "output_type": "execute_result"
    }
   ],
   "source": [
    "# produto matricial\n",
    "np.eye(4)@np.arange(1,5).reshape(4,1)"
   ]
  },
  {
   "cell_type": "markdown",
   "metadata": {},
   "source": [
    "`inv`: função que calcula o inverso de matrizes<br>\n",
    "`qr`: calcula a decomposição QR"
   ]
  },
  {
   "cell_type": "code",
   "execution_count": 8,
   "metadata": {},
   "outputs": [],
   "source": [
    "from numpy.linalg import inv,qr"
   ]
  },
  {
   "cell_type": "code",
   "execution_count": 9,
   "metadata": {},
   "outputs": [],
   "source": [
    "X = np.random.randint(1,26,25).reshape((5,5))"
   ]
  },
  {
   "cell_type": "code",
   "execution_count": 10,
   "metadata": {},
   "outputs": [
    {
     "data": {
      "text/plain": [
       "array([[16,  1, 14, 25, 12],\n",
       "       [ 1, 14, 19, 19, 21],\n",
       "       [11, 22, 25, 20, 21],\n",
       "       [18, 16,  9, 25,  6],\n",
       "       [ 9, 17,  2,  1,  2]])"
      ]
     },
     "execution_count": 10,
     "metadata": {},
     "output_type": "execute_result"
    }
   ],
   "source": [
    "X"
   ]
  },
  {
   "cell_type": "markdown",
   "metadata": {},
   "source": [
    "Produto matricial `mat=`$X^TX$"
   ]
  },
  {
   "cell_type": "code",
   "execution_count": 11,
   "metadata": {},
   "outputs": [],
   "source": [
    "mat = X.T.dot(X)"
   ]
  },
  {
   "cell_type": "code",
   "execution_count": 12,
   "metadata": {},
   "outputs": [
    {
     "data": {
      "text/plain": [
       "array([[ 783,  713,  698, 1098,  570],\n",
       "       [ 713, 1226, 1008, 1148,  898],\n",
       "       [ 698, 1008, 1267, 1438, 1150],\n",
       "       [1098, 1148, 1438, 2012, 1271],\n",
       "       [ 570,  898, 1150, 1271, 1066]])"
      ]
     },
     "execution_count": 12,
     "metadata": {},
     "output_type": "execute_result"
    }
   ],
   "source": [
    "mat"
   ]
  },
  {
   "cell_type": "code",
   "execution_count": 13,
   "metadata": {},
   "outputs": [
    {
     "data": {
      "text/plain": [
       "array([[ True,  True,  True,  True,  True],\n",
       "       [ True,  True,  True,  True,  True],\n",
       "       [ True,  True,  True,  True,  True],\n",
       "       [ True,  True,  True,  True,  True],\n",
       "       [ True,  True,  True,  True,  True]])"
      ]
     },
     "execution_count": 13,
     "metadata": {},
     "output_type": "execute_result"
    }
   ],
   "source": [
    "# verificação da compatibilidade de métodos de multiplicação matricial\n",
    "mat == X.T@X"
   ]
  },
  {
   "cell_type": "code",
   "execution_count": 14,
   "metadata": {},
   "outputs": [
    {
     "data": {
      "text/plain": [
       "array([[ 0.02110187, -0.00635138, -0.02195612, -0.01383472,  0.03424855],\n",
       "       [-0.00635138,  0.00435269,  0.00255969,  0.00432907, -0.00819355],\n",
       "       [-0.02195612,  0.00255969,  0.08708989,  0.00637685, -0.09197181],\n",
       "       [-0.01383472,  0.00432907,  0.00637685,  0.01213769, -0.01760047],\n",
       "       [ 0.03424855, -0.00819355, -0.09197181, -0.01760047,  0.10973163]])"
      ]
     },
     "execution_count": 14,
     "metadata": {},
     "output_type": "execute_result"
    }
   ],
   "source": [
    "# inversa da matriz \n",
    "inv(mat)"
   ]
  },
  {
   "cell_type": "code",
   "execution_count": 15,
   "metadata": {},
   "outputs": [
    {
     "data": {
      "text/plain": [
       "(array([[ 1.00000000e+00, -1.77635684e-15, -7.10542736e-15,\n",
       "          0.00000000e+00,  1.42108547e-14],\n",
       "        [ 3.55271368e-15,  1.00000000e+00,  1.42108547e-14,\n",
       "          0.00000000e+00,  1.42108547e-14],\n",
       "        [-7.10542736e-15,  0.00000000e+00,  1.00000000e+00,\n",
       "          3.55271368e-15,  1.42108547e-14],\n",
       "        [ 0.00000000e+00,  0.00000000e+00,  0.00000000e+00,\n",
       "          1.00000000e+00,  0.00000000e+00],\n",
       "        [ 0.00000000e+00, -1.77635684e-15,  0.00000000e+00,\n",
       "          3.55271368e-15,  1.00000000e+00]]),\n",
       " array([[ 1.00000000e+00, -1.77635684e-15, -7.10542736e-15,\n",
       "          0.00000000e+00,  1.42108547e-14],\n",
       "        [ 3.55271368e-15,  1.00000000e+00,  1.42108547e-14,\n",
       "          0.00000000e+00,  1.42108547e-14],\n",
       "        [-7.10542736e-15,  0.00000000e+00,  1.00000000e+00,\n",
       "          3.55271368e-15,  1.42108547e-14],\n",
       "        [ 0.00000000e+00,  0.00000000e+00,  0.00000000e+00,\n",
       "          1.00000000e+00,  0.00000000e+00],\n",
       "        [ 0.00000000e+00, -1.77635684e-15,  0.00000000e+00,\n",
       "          3.55271368e-15,  1.00000000e+00]]))"
      ]
     },
     "execution_count": 15,
     "metadata": {},
     "output_type": "execute_result"
    }
   ],
   "source": [
    "# verificação de que inv(mat) é de fato inversa de mat\n",
    "mat.dot(inv(mat)),mat@inv(mat)"
   ]
  },
  {
   "cell_type": "markdown",
   "metadata": {},
   "source": [
    "## Truncando os valores \n",
    "Nem o numpy nem as funções nativas do python inverteram as matrizes de maneira precisa.\n",
    "\n",
    "Foi utilizada uma tolerância de 1e-13 para truncar os valores, junto com a indexação booleana, para realizar esse truncamento.\n",
    "\n",
    "`t==np.eye(5)` compara a matriz `t` com a matriz indentidade dado que `t` é uma mariz do tipo $AA^{-1}$"
   ]
  },
  {
   "cell_type": "code",
   "execution_count": 16,
   "metadata": {},
   "outputs": [
    {
     "data": {
      "text/plain": [
       "array([[ True,  True,  True,  True,  True],\n",
       "       [ True,  True,  True,  True,  True],\n",
       "       [ True,  True,  True,  True,  True],\n",
       "       [ True,  True,  True,  True,  True],\n",
       "       [ True,  True,  True,  True,  True]])"
      ]
     },
     "execution_count": 16,
     "metadata": {},
     "output_type": "execute_result"
    }
   ],
   "source": [
    "t = mat@inv(mat)\n",
    "t[t<1e-13]=0\n",
    "t[t!=0]=1\n",
    "t == np.eye(5)"
   ]
  },
  {
   "cell_type": "code",
   "execution_count": 17,
   "metadata": {},
   "outputs": [
    {
     "data": {
      "text/plain": [
       "array([[-3,  5,  1, -2, -3],\n",
       "       [ 9,  1,  1, -6, -2],\n",
       "       [-7, -8,  2, -4, -8],\n",
       "       [-9,  2,  2,  7,  0],\n",
       "       [ 6,  5,  5,  9,  2]])"
      ]
     },
     "execution_count": 17,
     "metadata": {},
     "output_type": "execute_result"
    }
   ],
   "source": [
    "np.random.seed(42)\n",
    "A = np.random.randint(-9,10,(5,5))\n",
    "A"
   ]
  },
  {
   "cell_type": "code",
   "execution_count": 18,
   "metadata": {},
   "outputs": [
    {
     "data": {
      "text/plain": [
       "array([-3,  1,  2,  7,  2])"
      ]
     },
     "metadata": {},
     "output_type": "display_data"
    },
    {
     "data": {
      "text/plain": [
       "9"
      ]
     },
     "metadata": {},
     "output_type": "display_data"
    },
    {
     "data": {
      "text/plain": [
       "True"
      ]
     },
     "metadata": {},
     "output_type": "display_data"
    }
   ],
   "source": [
    "# np.diag(A): elementos da diagonal de A\n",
    "# np.trace(A): soma dos elementos da diagonal principal de A\n",
    "# np.sum(np.diag(A)) = np.trace(A)\n",
    "display(np.diag(A),np.trace(A),np.sum(np.diag(A))==np.trace(A))"
   ]
  },
  {
   "cell_type": "code",
   "execution_count": 19,
   "metadata": {},
   "outputs": [
    {
     "data": {
      "text/plain": [
       "(array([[ 0.16483516, -0.33195971,  0.06593407, -0.42994505,  0.1790293 ],\n",
       "        [ 0.18131868, -0.11515568, -0.02747253, -0.12293956,  0.04693223],\n",
       "        [-0.78571429,  1.52678571, -0.21428571,  1.61607143, -0.50892857],\n",
       "        [ 0.38461538, -0.83012821,  0.15384615, -0.83653846,  0.36217949],\n",
       "        [-0.71428571,  1.20238095, -0.28571429,  1.32142857, -0.51190476]]),\n",
       " array([[-0.08104966,  0.12651796, -0.01792345,  0.06155158],\n",
       "        [ 0.11686038,  0.00503348, -0.04945564,  0.00590547],\n",
       "        [-0.08673478,  0.22346622,  0.02409698,  0.21888854],\n",
       "        [-0.11281402,  0.09738032, -0.01579911,  0.15776803],\n",
       "        [-0.01121861, -0.1085603 , -0.04593754, -0.08392498]]))"
      ]
     },
     "execution_count": 19,
     "metadata": {},
     "output_type": "execute_result"
    }
   ],
   "source": [
    "# np.linalg.inv(A): cálculo da inversa da matriz A\n",
    "# np.linalg.pinv(X): cálculo da pseudoinversa da matriz X\n",
    "np.linalg.inv(A),np.linalg.pinv(np.resize(A,(4,5)))"
   ]
  },
  {
   "cell_type": "code",
   "execution_count": 20,
   "metadata": {},
   "outputs": [
    {
     "data": {
      "text/plain": [
       "array([[-0.1875    , -0.56157784, -0.00955111,  0.72337752,  0.35511663],\n",
       "       [ 0.5625    ,  0.11568657, -0.18863768,  0.52657921, -0.59777966],\n",
       "       [-0.4375    ,  0.61827192, -0.56783125,  0.28935101,  0.14204665],\n",
       "       [-0.5625    , -0.40988287, -0.25103291, -0.14480414, -0.65696577],\n",
       "       [ 0.375     , -0.34782584, -0.76083819, -0.30781009,  0.25450025]])"
      ]
     },
     "metadata": {},
     "output_type": "display_data"
    },
    {
     "data": {
      "text/plain": [
       "array([[ 16.        ,   3.875     ,   0.25      ,  -1.8125    ,\n",
       "          3.6875    ],\n",
       "       [  0.        , -10.19727292,  -1.76824237,  -8.04366404,\n",
       "         -4.18846665],\n",
       "       [  0.        ,   0.        ,  -5.64010806,  -5.18252082,\n",
       "          3.42690228],\n",
       "       [  0.        ,   0.        ,   0.        ,  -9.54755416,\n",
       "         -6.15371923],\n",
       "       [  0.        ,   0.        ,   0.        ,   0.        ,\n",
       "         -0.49716328]])"
      ]
     },
     "metadata": {},
     "output_type": "display_data"
    }
   ],
   "source": [
    "# decomposição QR da matriz A\n",
    "q,r = np.linalg.qr(A)\n",
    "display(q,r)"
   ]
  },
  {
   "cell_type": "code",
   "execution_count": 21,
   "metadata": {},
   "outputs": [
    {
     "data": {
      "text/plain": [
       "array([[ True,  True,  True,  True,  True],\n",
       "       [ True,  True,  True,  True,  True],\n",
       "       [ True,  True,  True,  True,  True],\n",
       "       [ True,  True,  True,  True,  True],\n",
       "       [ True,  True,  True,  True,  True]])"
      ]
     },
     "execution_count": 21,
     "metadata": {},
     "output_type": "execute_result"
    }
   ],
   "source": [
    "# mostrando que a decomposição QR do numpy.linalg é aproximada\n",
    "np.abs(q@r - A) < 1e-12"
   ]
  },
  {
   "cell_type": "code",
   "execution_count": 22,
   "metadata": {},
   "outputs": [],
   "source": [
    "# decomposição SVD da matriz A\n",
    "u,E,v_T = np.linalg.svd(A)\n",
    "# transformando a matriz E numa matriz diagonal\n",
    "e = np.eye(5)\n",
    "e[e==1] = E"
   ]
  },
  {
   "cell_type": "code",
   "execution_count": 23,
   "metadata": {},
   "outputs": [
    {
     "data": {
      "text/plain": [
       "array([[ True,  True,  True,  True,  True],\n",
       "       [ True,  True,  True,  True,  True],\n",
       "       [ True,  True,  True,  True,  True],\n",
       "       [ True,  True,  True,  True,  True],\n",
       "       [ True,  True,  True,  True,  True]])"
      ]
     },
     "execution_count": 23,
     "metadata": {},
     "output_type": "execute_result"
    }
   ],
   "source": [
    "# verificação da precisão da decomposição\n",
    "np.abs((u@e)@v_T - A) < 1e-12"
   ]
  },
  {
   "cell_type": "code",
   "execution_count": 24,
   "metadata": {},
   "outputs": [
    {
     "data": {
      "text/plain": [
       "(array([[-1.12591575],\n",
       "        [-0.38850733],\n",
       "        [ 5.54464286],\n",
       "        [-2.34935897],\n",
       "        [ 3.55952381]]),\n",
       " array([-1.12591575, -0.38850733,  5.54464286, -2.34935897,  3.55952381]))"
      ]
     },
     "execution_count": 24,
     "metadata": {},
     "output_type": "execute_result"
    }
   ],
   "source": [
    "# resolução de sistemas lineares utilizando diferentes formas de representar o \n",
    "# vetor X na equação Ax = b\n",
    "np.linalg.solve(A,np.arange(1,6).reshape(5,1)),np.linalg.solve(A,np.arange(1,6))"
   ]
  },
  {
   "cell_type": "code",
   "execution_count": null,
   "metadata": {},
   "outputs": [],
   "source": []
  }
 ],
 "metadata": {
  "kernelspec": {
   "display_name": "Python 3",
   "language": "python",
   "name": "python3"
  },
  "language_info": {
   "codemirror_mode": {
    "name": "ipython",
    "version": 3
   },
   "file_extension": ".py",
   "mimetype": "text/x-python",
   "name": "python",
   "nbconvert_exporter": "python",
   "pygments_lexer": "ipython3",
   "version": "3.7.6"
  }
 },
 "nbformat": 4,
 "nbformat_minor": 4
}
