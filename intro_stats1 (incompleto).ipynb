{
 "cells": [
  {
   "cell_type": "code",
   "execution_count": 2,
   "metadata": {},
   "outputs": [],
   "source": [
    "import numpy as np\n",
    "import pandas as pd\n",
    "%matplotlib inline\n",
    "import matplotlib.pyplot as plt \n",
    "from scipy import stats\n",
    "from scipy import optimize\n",
    "import random\n",
    "import seaborn as sns\n",
    "sns.set(style=\"whitegrid\")"
   ]
  },
  {
   "cell_type": "code",
   "execution_count": 6,
   "metadata": {},
   "outputs": [
    {
     "name": "stdout",
     "output_type": "stream",
     "text": [
      "\n",
      "Estatísticas descritivas\n",
      "\n",
      "amostra: [3.5 1.1 3.2 2.8 6.7 4.4 0.9 2.2]\n",
      "média: 3.1\n",
      "mediana: 3.0\n",
      "máximo: 6.7\n",
      "mínimo: 0.9\n",
      "variância: 3.0700000000000007\n",
      "desvio padrão: 1.7521415467935233\n",
      "variância não enviesada: 3.5085714285714293\n",
      "desvio padrão não enviesado: 1.8731181032095732\n",
      "\n"
     ]
    }
   ],
   "source": [
    "x = np.array([3.5,1.1,3.2,2.8,6.7,4.4,0.9,2.2])\n",
    "print(f\"\"\"\n",
    "Estatísticas descritivas\n",
    "\n",
    "amostra: {x}\n",
    "média: {np.mean(x)}\n",
    "mediana: {np.median(x)}\n",
    "máximo: {np.max(x)}\n",
    "mínimo: {np.min(x)}\n",
    "variância: {np.var(x)}\n",
    "desvio padrão: {np.std(x)}\n",
    "variância não enviesada: {x.var(ddof=1)}\n",
    "desvio padrão não enviesado: {x.std(ddof=1)}\n",
    "\"\"\")"
   ]
  },
  {
   "cell_type": "code",
   "execution_count": 7,
   "metadata": {},
   "outputs": [
    {
     "data": {
      "text/plain": [
       "0.09283895923689311"
      ]
     },
     "execution_count": 7,
     "metadata": {},
     "output_type": "execute_result"
    }
   ],
   "source": [
    "np.random.rand()"
   ]
  },
  {
   "cell_type": "code",
   "execution_count": null,
   "metadata": {},
   "outputs": [],
   "source": [
    "np.random.randn()"
   ]
  }
 ],
 "metadata": {
  "kernelspec": {
   "display_name": "Python 3",
   "language": "python",
   "name": "python3"
  },
  "language_info": {
   "codemirror_mode": {
    "name": "ipython",
    "version": 3
   },
   "file_extension": ".py",
   "mimetype": "text/x-python",
   "name": "python",
   "nbconvert_exporter": "python",
   "pygments_lexer": "ipython3",
   "version": "3.7.6"
  }
 },
 "nbformat": 4,
 "nbformat_minor": 4
}
