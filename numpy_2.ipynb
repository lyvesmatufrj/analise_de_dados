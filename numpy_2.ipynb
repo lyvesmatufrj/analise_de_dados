{
 "cells": [
  {
   "cell_type": "markdown",
   "metadata": {},
   "source": [
    "# Introdução ao Numpy - 2\n",
    "## Leonardo Yves de Souza Melo\n",
    "### (21)971771433 | prof.leoyves@gmail.com\n",
    "## Fontes:\n",
    "### 1) Python for Data Analysis - Wes McKinney; capítulo 4\n",
    "### 2) Python for Finance - Yves Hilspisch; capítulo 4"
   ]
  },
  {
   "cell_type": "markdown",
   "metadata": {},
   "source": [
    "# Bibliotecas"
   ]
  },
  {
   "cell_type": "code",
   "execution_count": 1,
   "metadata": {},
   "outputs": [],
   "source": [
    "import numpy as np"
   ]
  },
  {
   "cell_type": "markdown",
   "metadata": {},
   "source": [
    "### Slicing and Indexing"
   ]
  },
  {
   "cell_type": "code",
   "execution_count": 2,
   "metadata": {},
   "outputs": [
    {
     "data": {
      "text/plain": [
       "array([12,  1, 12,  3, 12,  5, 12,  7, 12,  9])"
      ]
     },
     "execution_count": 2,
     "metadata": {},
     "output_type": "execute_result"
    }
   ],
   "source": [
    "# transformando todos os elementos de índice par em 12\n",
    "arr = np.arange(10)\n",
    "arr[::2] = 12\n",
    "arr"
   ]
  },
  {
   "cell_type": "code",
   "execution_count": 3,
   "metadata": {},
   "outputs": [
    {
     "data": {
      "text/plain": [
       "array([12,  1, 12,  3, 12, 64, 64, 64, 12,  9])"
      ]
     },
     "execution_count": 3,
     "metadata": {},
     "output_type": "execute_result"
    }
   ],
   "source": [
    "# todas as mudanças ocorrem no array original\n",
    "arr_slice = arr[5:8]\n",
    "arr_slice[:] = 64\n",
    "arr"
   ]
  },
  {
   "cell_type": "code",
   "execution_count": 4,
   "metadata": {},
   "outputs": [
    {
     "data": {
      "text/plain": [
       "(array([12,  1, 12,  3, 12, 64, 64, 64, 12,  9]), array([32, 32, 32]))"
      ]
     },
     "execution_count": 4,
     "metadata": {},
     "output_type": "execute_result"
    }
   ],
   "source": [
    "# a utilização do método copy, garante que as alterações não estão sendo \n",
    "# realizadas no array original\n",
    "arr_slice = arr[5:8].copy()\n",
    "arr_slice[:] = 32\n",
    "arr,arr_slice"
   ]
  },
  {
   "cell_type": "code",
   "execution_count": 5,
   "metadata": {},
   "outputs": [
    {
     "data": {
      "text/plain": [
       "(array([7, 8, 9]), (3, 3), 2)"
      ]
     },
     "execution_count": 5,
     "metadata": {},
     "output_type": "execute_result"
    }
   ],
   "source": [
    "# esse array de duas dimensões pode ser pensado numa função em que cada \n",
    "# coordenada é um vetor de 3 dimenões\n",
    "# f = (f1,f2,f3), fi: E -> R^3\n",
    "arr2d = np.reshape(np.arange(1,10),(3,3))\n",
    "# terceira coordenada\n",
    "arr2d[2],arr2d.shape,arr2d.ndim"
   ]
  },
  {
   "cell_type": "code",
   "execution_count": 6,
   "metadata": {},
   "outputs": [
    {
     "data": {
      "text/plain": [
       "(3, 3)"
      ]
     },
     "execution_count": 6,
     "metadata": {},
     "output_type": "execute_result"
    }
   ],
   "source": [
    "# primeira componente da terceira coordenada\n",
    "# primeira linha e terceira coordenada da matriz\n",
    "arr2d[0][2],arr2d[0,2]"
   ]
  },
  {
   "cell_type": "code",
   "execution_count": 7,
   "metadata": {},
   "outputs": [
    {
     "data": {
      "text/plain": [
       "(array([[[ 1,  2,  3],\n",
       "         [ 4,  5,  6]],\n",
       " \n",
       "        [[ 7,  8,  9],\n",
       "         [10, 11, 12]]]),\n",
       " (2, 2, 3),\n",
       " 3)"
      ]
     },
     "execution_count": 7,
     "metadata": {},
     "output_type": "execute_result"
    }
   ],
   "source": [
    "# array de 3 dimensões\n",
    "arr3d = np.reshape(np.arange(1,13),(2,2,3))\n",
    "arr3d,arr3d.shape,arr3d.ndim"
   ]
  },
  {
   "cell_type": "code",
   "execution_count": 8,
   "metadata": {},
   "outputs": [
    {
     "data": {
      "text/plain": [
       "(array([[1, 2, 3],\n",
       "        [4, 5, 6],\n",
       "        [7, 8, 9]]),\n",
       " array([[2, 3],\n",
       "        [5, 6]]))"
      ]
     },
     "execution_count": 8,
     "metadata": {},
     "output_type": "execute_result"
    }
   ],
   "source": [
    "\"\"\"\n",
    "escolha das duas primeiras linhas em cada linha, seleciona os elementos com \n",
    "índice menor ou igual 1\n",
    "\"\"\"\n",
    "arr2d,arr2d[:2,1:]"
   ]
  },
  {
   "cell_type": "markdown",
   "metadata": {},
   "source": [
    "A operação `names == 'Bob'` retorna um array booleano. Note que o primeiro e o quarto elemento, são os únicos que retornaram `True`"
   ]
  },
  {
   "cell_type": "code",
   "execution_count": 9,
   "metadata": {},
   "outputs": [
    {
     "data": {
      "text/plain": [
       "array([ True, False, False,  True, False, False, False])"
      ]
     },
     "execution_count": 9,
     "metadata": {},
     "output_type": "execute_result"
    }
   ],
   "source": [
    "names = np.array(['Bob', 'Joe', 'Will', 'Bob', 'Will', 'Joe', 'Joe'])\n",
    "data = np.random.randn(7,4)\n",
    "names == 'Bob'"
   ]
  },
  {
   "cell_type": "markdown",
   "metadata": {},
   "source": [
    "Por meio da indexação booleana, podemos relacionar os arrays e nesse exemplo, selecionar a primeira e a quarta linha do array `data`, devido a atribuição feita por meio da operação <br>`names == 'Bob'`\n",
    "\n",
    "Note que o número de linhas de `data` é igual ao shape de `names` e isso permite a indexação booleana"
   ]
  },
  {
   "cell_type": "code",
   "execution_count": 10,
   "metadata": {},
   "outputs": [
    {
     "data": {
      "text/plain": [
       "(array([[-0.82057946,  0.92374595,  0.70940361, -0.85760034],\n",
       "        [ 0.01992709, -0.45276677,  0.52700706,  0.00612724],\n",
       "        [-0.16875137, -0.21397685, -0.30521948, -0.22144205],\n",
       "        [ 0.86497152, -0.26185243, -0.00454527,  1.25723165],\n",
       "        [ 1.43157946, -1.81179178,  0.7424955 , -1.31252425],\n",
       "        [ 0.44873385,  0.15714218, -0.25664429,  0.22108487],\n",
       "        [-0.40642317,  2.43907237,  0.45533087, -0.09928299]]),\n",
       " array([[-0.82057946,  0.92374595,  0.70940361, -0.85760034],\n",
       "        [ 0.86497152, -0.26185243, -0.00454527,  1.25723165]]))"
      ]
     },
     "execution_count": 10,
     "metadata": {},
     "output_type": "execute_result"
    }
   ],
   "source": [
    "# seleção da 1º e da 4º linha\n",
    "data,data[names == 'Bob']"
   ]
  },
  {
   "cell_type": "markdown",
   "metadata": {},
   "source": [
    "Essa indexação recupera as linhas 1 e 4 de `data` e para cada linha, sobram apenas os elementos de índice 2 em diante, ou seja, a terceira e a quarta coluna da matriz"
   ]
  },
  {
   "cell_type": "code",
   "execution_count": 11,
   "metadata": {},
   "outputs": [
    {
     "data": {
      "text/plain": [
       "array([[ 0.70940361, -0.85760034],\n",
       "       [-0.00454527,  1.25723165]])"
      ]
     },
     "execution_count": 11,
     "metadata": {},
     "output_type": "execute_result"
    }
   ],
   "source": [
    "data[names=='Bob',2:]"
   ]
  },
  {
   "cell_type": "code",
   "execution_count": 12,
   "metadata": {},
   "outputs": [
    {
     "data": {
      "text/plain": [
       "array([-0.85760034,  1.25723165])"
      ]
     },
     "execution_count": 12,
     "metadata": {},
     "output_type": "execute_result"
    }
   ],
   "source": [
    "# apenas as entradas de posição 4 de cada linha do array data[names=='Bob']\n",
    "data[names=='Bob',3]"
   ]
  },
  {
   "cell_type": "code",
   "execution_count": 13,
   "metadata": {},
   "outputs": [
    {
     "data": {
      "text/plain": [
       "array([[ 0.01992709, -0.45276677,  0.52700706,  0.00612724],\n",
       "       [-0.16875137, -0.21397685, -0.30521948, -0.22144205],\n",
       "       [ 1.43157946, -1.81179178,  0.7424955 , -1.31252425],\n",
       "       [ 0.44873385,  0.15714218, -0.25664429,  0.22108487],\n",
       "       [-0.40642317,  2.43907237,  0.45533087, -0.09928299]])"
      ]
     },
     "execution_count": 13,
     "metadata": {},
     "output_type": "execute_result"
    }
   ],
   "source": [
    "# seleção de todas as linhas que não estavam no array data[names=='Bob']\n",
    "# ~(names=='Bob') é a negação de names=='Bob'\n",
    "data[~(names=='Bob')]"
   ]
  },
  {
   "cell_type": "code",
   "execution_count": 14,
   "metadata": {},
   "outputs": [
    {
     "data": {
      "text/plain": [
       "array([1, 0, 1, 1, 1, 0, 0])"
      ]
     },
     "execution_count": 14,
     "metadata": {},
     "output_type": "execute_result"
    }
   ],
   "source": [
    "# utilização do conectivo \"ou\" por meio do símbolo |\n",
    "mask = (names=='Bob') | (names == 'Will')\n",
    "mask.astype(int)"
   ]
  },
  {
   "cell_type": "code",
   "execution_count": 15,
   "metadata": {},
   "outputs": [
    {
     "data": {
      "text/plain": [
       "array([[-0.82057946,  0.92374595,  0.70940361, -0.85760034],\n",
       "       [-0.16875137, -0.21397685, -0.30521948, -0.22144205],\n",
       "       [ 0.86497152, -0.26185243, -0.00454527,  1.25723165],\n",
       "       [ 1.43157946, -1.81179178,  0.7424955 , -1.31252425]])"
      ]
     },
     "execution_count": 15,
     "metadata": {},
     "output_type": "execute_result"
    }
   ],
   "source": [
    "data[mask]"
   ]
  },
  {
   "cell_type": "code",
   "execution_count": 16,
   "metadata": {},
   "outputs": [
    {
     "data": {
      "text/plain": [
       "array([[0.        , 0.92374595, 0.70940361, 0.        ],\n",
       "       [0.01992709, 0.        , 0.52700706, 0.00612724],\n",
       "       [0.        , 0.        , 0.        , 0.        ],\n",
       "       [0.86497152, 0.        , 0.        , 1.25723165],\n",
       "       [1.43157946, 0.        , 0.7424955 , 0.        ],\n",
       "       [0.44873385, 0.15714218, 0.        , 0.22108487],\n",
       "       [0.        , 2.43907237, 0.45533087, 0.        ]])"
      ]
     },
     "execution_count": 16,
     "metadata": {},
     "output_type": "execute_result"
    }
   ],
   "source": [
    "# mudando o valor de todas as entradas negativas para 0\n",
    "data[data<0] = 0\n",
    "data"
   ]
  },
  {
   "cell_type": "code",
   "execution_count": 17,
   "metadata": {},
   "outputs": [
    {
     "data": {
      "text/plain": [
       "array([[7.00000000e+00, 7.00000000e+00, 7.00000000e+00, 7.00000000e+00],\n",
       "       [1.99270917e-02, 0.00000000e+00, 5.27007057e-01, 6.12724077e-03],\n",
       "       [7.00000000e+00, 7.00000000e+00, 7.00000000e+00, 7.00000000e+00],\n",
       "       [7.00000000e+00, 7.00000000e+00, 7.00000000e+00, 7.00000000e+00],\n",
       "       [7.00000000e+00, 7.00000000e+00, 7.00000000e+00, 7.00000000e+00],\n",
       "       [4.48733849e-01, 1.57142181e-01, 0.00000000e+00, 2.21084870e-01],\n",
       "       [0.00000000e+00, 2.43907237e+00, 4.55330868e-01, 0.00000000e+00]])"
      ]
     },
     "execution_count": 17,
     "metadata": {},
     "output_type": "execute_result"
    }
   ],
   "source": [
    "# utilizando o indexador names != 'Joe' para alterar os valores do array\n",
    "data[names != 'Joe'] = 7\n",
    "data"
   ]
  },
  {
   "cell_type": "code",
   "execution_count": 18,
   "metadata": {},
   "outputs": [
    {
     "data": {
      "text/plain": [
       "1000"
      ]
     },
     "execution_count": 18,
     "metadata": {},
     "output_type": "execute_result"
    }
   ],
   "source": [
    "# gerador de 1000 pontos equidistantes entre 0 e 1\n",
    "points = np.arange(-5,5,0.01)\n",
    "len(points)"
   ]
  },
  {
   "cell_type": "code",
   "execution_count": 19,
   "metadata": {},
   "outputs": [],
   "source": [
    "q,w = np.arange(10),np.arange(-9,1)\n",
    "e,r = np.meshgrid(q,w)"
   ]
  },
  {
   "cell_type": "markdown",
   "metadata": {},
   "source": [
    "O ``np.meshgrid()`` possibilita a construção de duas matrizes quadradas de mesmas dimensões, em que a primeira é simplesmente repetições do array do primeiro argumento em todas as **linhas** <br>\n",
    "A segunda matriz repete os elementos do segundo argumento da função, nas colunas da matriz"
   ]
  },
  {
   "cell_type": "code",
   "execution_count": 20,
   "metadata": {
    "scrolled": false
   },
   "outputs": [
    {
     "data": {
      "text/plain": [
       "(array([[0, 1, 2, 3, 4, 5, 6, 7, 8, 9],\n",
       "        [0, 1, 2, 3, 4, 5, 6, 7, 8, 9],\n",
       "        [0, 1, 2, 3, 4, 5, 6, 7, 8, 9],\n",
       "        [0, 1, 2, 3, 4, 5, 6, 7, 8, 9],\n",
       "        [0, 1, 2, 3, 4, 5, 6, 7, 8, 9],\n",
       "        [0, 1, 2, 3, 4, 5, 6, 7, 8, 9],\n",
       "        [0, 1, 2, 3, 4, 5, 6, 7, 8, 9],\n",
       "        [0, 1, 2, 3, 4, 5, 6, 7, 8, 9],\n",
       "        [0, 1, 2, 3, 4, 5, 6, 7, 8, 9],\n",
       "        [0, 1, 2, 3, 4, 5, 6, 7, 8, 9]]),\n",
       " array([[-9, -9, -9, -9, -9, -9, -9, -9, -9, -9],\n",
       "        [-8, -8, -8, -8, -8, -8, -8, -8, -8, -8],\n",
       "        [-7, -7, -7, -7, -7, -7, -7, -7, -7, -7],\n",
       "        [-6, -6, -6, -6, -6, -6, -6, -6, -6, -6],\n",
       "        [-5, -5, -5, -5, -5, -5, -5, -5, -5, -5],\n",
       "        [-4, -4, -4, -4, -4, -4, -4, -4, -4, -4],\n",
       "        [-3, -3, -3, -3, -3, -3, -3, -3, -3, -3],\n",
       "        [-2, -2, -2, -2, -2, -2, -2, -2, -2, -2],\n",
       "        [-1, -1, -1, -1, -1, -1, -1, -1, -1, -1],\n",
       "        [ 0,  0,  0,  0,  0,  0,  0,  0,  0,  0]]),\n",
       " (10, 10),\n",
       " (10, 10))"
      ]
     },
     "execution_count": 20,
     "metadata": {},
     "output_type": "execute_result"
    }
   ],
   "source": [
    "e,r,r.shape,e.shape"
   ]
  },
  {
   "cell_type": "code",
   "execution_count": 21,
   "metadata": {},
   "outputs": [
    {
     "data": {
      "text/plain": [
       "489"
      ]
     },
     "execution_count": 21,
     "metadata": {},
     "output_type": "execute_result"
    }
   ],
   "source": [
    "X = np.random.randn(1000)\n",
    "# número de valores positivos\n",
    "(X>0).sum()"
   ]
  },
  {
   "cell_type": "code",
   "execution_count": 22,
   "metadata": {},
   "outputs": [
    {
     "data": {
      "text/plain": [
       "array([ True, False, False, False,  True, False,  True, False,  True,\n",
       "       False,  True, False,  True, False,  True,  True,  True, False,\n",
       "       False, False,  True,  True,  True,  True,  True,  True,  True,\n",
       "        True, False, False,  True, False, False, False, False,  True,\n",
       "        True,  True,  True, False, False,  True, False, False,  True,\n",
       "       False,  True,  True,  True,  True, False,  True,  True, False,\n",
       "       False,  True,  True, False,  True, False, False, False,  True,\n",
       "        True, False, False, False,  True,  True, False, False,  True,\n",
       "        True,  True,  True,  True,  True,  True, False, False, False,\n",
       "        True,  True,  True, False,  True,  True, False,  True, False,\n",
       "        True,  True, False, False,  True, False, False,  True, False,\n",
       "        True,  True, False, False,  True, False, False,  True, False,\n",
       "       False, False,  True, False, False,  True, False,  True,  True,\n",
       "       False, False, False, False, False,  True,  True,  True,  True,\n",
       "       False, False,  True,  True, False,  True, False, False,  True,\n",
       "       False,  True,  True,  True, False,  True, False,  True, False,\n",
       "        True, False,  True, False,  True,  True,  True,  True,  True,\n",
       "        True,  True, False,  True,  True,  True, False,  True,  True,\n",
       "       False, False,  True,  True, False,  True, False, False, False,\n",
       "       False, False, False,  True, False,  True,  True, False, False,\n",
       "       False, False, False, False, False, False, False, False, False,\n",
       "        True,  True,  True,  True,  True, False, False, False, False,\n",
       "        True,  True,  True,  True, False, False, False, False, False,\n",
       "       False,  True, False, False, False, False, False,  True,  True,\n",
       "        True, False,  True, False,  True,  True, False, False, False,\n",
       "        True, False, False,  True, False, False,  True,  True,  True,\n",
       "       False, False,  True, False, False,  True,  True,  True, False,\n",
       "        True, False,  True,  True,  True,  True, False, False,  True,\n",
       "       False, False,  True,  True, False,  True,  True,  True,  True,\n",
       "       False, False, False, False, False,  True, False, False,  True,\n",
       "       False,  True, False, False,  True, False,  True, False,  True,\n",
       "        True, False, False,  True, False, False,  True,  True, False,\n",
       "        True, False, False, False,  True,  True, False,  True,  True,\n",
       "       False, False,  True, False, False, False,  True, False,  True,\n",
       "       False, False,  True, False,  True, False,  True,  True, False,\n",
       "        True, False, False, False,  True,  True, False,  True, False,\n",
       "        True,  True, False,  True, False,  True,  True,  True, False,\n",
       "        True, False,  True, False,  True,  True, False,  True, False,\n",
       "       False, False, False, False,  True, False, False,  True, False,\n",
       "        True, False, False, False, False, False, False,  True,  True,\n",
       "        True,  True, False,  True, False, False, False, False,  True,\n",
       "       False,  True,  True, False, False,  True,  True, False, False,\n",
       "       False, False, False,  True, False, False,  True, False,  True,\n",
       "        True,  True, False,  True, False, False, False, False, False,\n",
       "       False,  True, False, False, False, False,  True,  True, False,\n",
       "        True,  True,  True,  True,  True,  True,  True, False,  True,\n",
       "       False,  True, False, False,  True,  True,  True,  True, False,\n",
       "       False,  True, False,  True,  True,  True,  True,  True, False,\n",
       "        True,  True, False,  True, False,  True,  True, False,  True,\n",
       "        True, False, False, False, False, False,  True,  True, False,\n",
       "        True, False,  True,  True, False, False, False,  True, False,\n",
       "       False, False, False,  True, False, False,  True,  True,  True,\n",
       "       False, False,  True,  True, False, False, False, False, False,\n",
       "        True,  True,  True,  True, False, False, False,  True,  True,\n",
       "        True,  True, False,  True, False, False,  True, False,  True,\n",
       "        True,  True, False, False, False,  True,  True, False, False,\n",
       "        True,  True,  True, False,  True,  True,  True,  True,  True,\n",
       "       False, False,  True,  True, False, False, False, False,  True,\n",
       "        True,  True, False, False, False, False,  True, False,  True,\n",
       "        True,  True,  True,  True, False,  True, False,  True,  True,\n",
       "        True, False,  True, False, False,  True,  True,  True, False,\n",
       "       False, False, False, False, False, False,  True,  True,  True,\n",
       "       False, False, False,  True, False, False,  True,  True,  True,\n",
       "       False,  True, False, False, False,  True,  True, False, False,\n",
       "        True,  True,  True,  True, False, False, False, False, False,\n",
       "       False, False,  True,  True,  True, False, False, False, False,\n",
       "       False,  True, False,  True, False, False, False, False,  True,\n",
       "       False,  True,  True, False, False, False, False, False, False,\n",
       "       False,  True,  True, False,  True, False,  True, False,  True,\n",
       "       False, False, False,  True,  True, False,  True,  True, False,\n",
       "        True, False, False,  True, False,  True, False,  True, False,\n",
       "        True,  True,  True,  True,  True,  True, False,  True,  True,\n",
       "        True,  True, False,  True,  True,  True,  True, False, False,\n",
       "        True, False,  True,  True, False,  True,  True,  True, False,\n",
       "       False,  True,  True,  True, False,  True,  True, False, False,\n",
       "       False, False,  True,  True,  True, False, False, False,  True,\n",
       "        True, False,  True, False, False,  True, False,  True, False,\n",
       "       False, False, False, False,  True, False, False,  True, False,\n",
       "       False,  True,  True, False, False, False, False, False,  True,\n",
       "        True, False, False, False,  True, False,  True,  True, False,\n",
       "        True, False,  True,  True, False, False, False, False,  True,\n",
       "       False,  True,  True,  True, False,  True,  True, False, False,\n",
       "        True,  True, False,  True,  True, False,  True,  True, False,\n",
       "        True, False,  True, False,  True,  True, False,  True,  True,\n",
       "        True, False,  True,  True, False, False,  True, False, False,\n",
       "       False, False,  True,  True, False,  True,  True,  True, False,\n",
       "       False, False,  True, False, False,  True,  True,  True,  True,\n",
       "        True, False, False,  True, False,  True,  True, False,  True,\n",
       "       False,  True,  True, False,  True,  True,  True, False,  True,\n",
       "        True, False,  True, False,  True,  True,  True, False, False,\n",
       "       False, False,  True,  True,  True,  True, False, False,  True,\n",
       "        True, False, False, False, False,  True, False,  True, False,\n",
       "       False,  True,  True,  True,  True, False,  True, False, False,\n",
       "        True,  True,  True, False,  True,  True,  True,  True,  True,\n",
       "        True,  True, False,  True,  True, False,  True,  True,  True,\n",
       "        True, False, False, False, False, False,  True, False,  True,\n",
       "        True, False,  True,  True, False,  True, False, False, False,\n",
       "        True, False, False, False, False,  True, False, False, False,\n",
       "        True, False,  True, False, False, False, False, False, False,\n",
       "        True, False, False, False, False,  True, False,  True,  True,\n",
       "       False, False, False, False, False,  True,  True, False,  True,\n",
       "       False, False,  True,  True,  True, False, False, False, False,\n",
       "        True, False,  True,  True,  True, False,  True,  True,  True,\n",
       "       False,  True, False,  True,  True,  True,  True, False, False,\n",
       "        True, False, False, False,  True,  True,  True,  True,  True,\n",
       "       False, False, False, False,  True,  True,  True, False, False,\n",
       "       False,  True, False, False, False, False, False,  True, False,\n",
       "        True,  True,  True,  True,  True,  True,  True, False,  True,\n",
       "       False,  True,  True, False,  True,  True, False, False,  True,\n",
       "       False,  True, False, False, False, False, False,  True, False,\n",
       "       False, False, False, False,  True, False, False,  True, False,\n",
       "        True])"
      ]
     },
     "execution_count": 22,
     "metadata": {},
     "output_type": "execute_result"
    }
   ],
   "source": [
    "# tranformando numa matriz aleatória binária\n",
    "X[X>=0]=1\n",
    "X[X<0]=0\n",
    "X.astype('?')"
   ]
  },
  {
   "cell_type": "markdown",
   "metadata": {},
   "source": [
    "``np.all()``: usado pra verificar se todos os valores num array booleano são `True`ou não <br>\n",
    "`np.any()`: é utilizado para verificar se pelo menos um ou mais valores são `True`ou não num dado array booleano"
   ]
  },
  {
   "cell_type": "code",
   "execution_count": 23,
   "metadata": {},
   "outputs": [
    {
     "data": {
      "text/plain": [
       "(True, False)"
      ]
     },
     "execution_count": 23,
     "metadata": {},
     "output_type": "execute_result"
    }
   ],
   "source": [
    "X.any(),X.all()"
   ]
  },
  {
   "cell_type": "code",
   "execution_count": 24,
   "metadata": {},
   "outputs": [
    {
     "data": {
      "text/plain": [
       "(True, True)"
      ]
     },
     "execution_count": 24,
     "metadata": {},
     "output_type": "execute_result"
    }
   ],
   "source": [
    "np.array([True,True,True]).any(),np.array([True,True,True]).all()"
   ]
  },
  {
   "cell_type": "code",
   "execution_count": 25,
   "metadata": {},
   "outputs": [
    {
     "data": {
      "text/plain": [
       "(True, False)"
      ]
     },
     "execution_count": 25,
     "metadata": {},
     "output_type": "execute_result"
    }
   ],
   "source": [
    "np.array([True,True,False]).any(),np.array([True,True,False]).all()"
   ]
  },
  {
   "cell_type": "code",
   "execution_count": null,
   "metadata": {},
   "outputs": [],
   "source": []
  }
 ],
 "metadata": {
  "kernelspec": {
   "display_name": "Python 3",
   "language": "python",
   "name": "python3"
  },
  "language_info": {
   "codemirror_mode": {
    "name": "ipython",
    "version": 3
   },
   "file_extension": ".py",
   "mimetype": "text/x-python",
   "name": "python",
   "nbconvert_exporter": "python",
   "pygments_lexer": "ipython3",
   "version": "3.7.6"
  }
 },
 "nbformat": 4,
 "nbformat_minor": 4
}
