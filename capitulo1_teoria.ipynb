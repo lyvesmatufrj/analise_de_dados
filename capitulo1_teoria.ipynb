{
 "cells": [
  {
   "cell_type": "markdown",
   "metadata": {},
   "source": [
    "# Capítulo 1 - Introdução à Probabilidade\n",
    "## Leonardo Yves de Souza Melo\n",
    "### (21)971771433 | prof.leoyves@gmail.com\n",
    "## Fonte:\n",
    "### 1) Think Bayes, Bayesian Statistics in Python - Allen B. Downey; Capítulo 1 "
   ]
  },
  {
   "cell_type": "markdown",
   "metadata": {},
   "source": [
    "# Bibliotecas"
   ]
  },
  {
   "cell_type": "code",
   "execution_count": 1,
   "metadata": {},
   "outputs": [],
   "source": [
    "import pandas as pd"
   ]
  },
  {
   "cell_type": "markdown",
   "metadata": {},
   "source": [
    "## Definição do espaço amostral $\\Omega$"
   ]
  },
  {
   "cell_type": "code",
   "execution_count": 2,
   "metadata": {
    "scrolled": false
   },
   "outputs": [
    {
     "data": {
      "text/html": [
       "<div>\n",
       "<style scoped>\n",
       "    .dataframe tbody tr th:only-of-type {\n",
       "        vertical-align: middle;\n",
       "    }\n",
       "\n",
       "    .dataframe tbody tr th {\n",
       "        vertical-align: top;\n",
       "    }\n",
       "\n",
       "    .dataframe thead th {\n",
       "        text-align: right;\n",
       "    }\n",
       "</style>\n",
       "<table border=\"1\" class=\"dataframe\">\n",
       "  <thead>\n",
       "    <tr style=\"text-align: right;\">\n",
       "      <th></th>\n",
       "      <th>year</th>\n",
       "      <th>age</th>\n",
       "      <th>sex</th>\n",
       "      <th>polviews</th>\n",
       "      <th>partyid</th>\n",
       "      <th>indus10</th>\n",
       "    </tr>\n",
       "    <tr>\n",
       "      <th>caseid</th>\n",
       "      <th></th>\n",
       "      <th></th>\n",
       "      <th></th>\n",
       "      <th></th>\n",
       "      <th></th>\n",
       "      <th></th>\n",
       "    </tr>\n",
       "  </thead>\n",
       "  <tbody>\n",
       "    <tr>\n",
       "      <th>1</th>\n",
       "      <td>1974</td>\n",
       "      <td>21.0</td>\n",
       "      <td>1</td>\n",
       "      <td>4.0</td>\n",
       "      <td>2.0</td>\n",
       "      <td>4970.0</td>\n",
       "    </tr>\n",
       "    <tr>\n",
       "      <th>2</th>\n",
       "      <td>1974</td>\n",
       "      <td>41.0</td>\n",
       "      <td>1</td>\n",
       "      <td>5.0</td>\n",
       "      <td>0.0</td>\n",
       "      <td>9160.0</td>\n",
       "    </tr>\n",
       "    <tr>\n",
       "      <th>5</th>\n",
       "      <td>1974</td>\n",
       "      <td>58.0</td>\n",
       "      <td>2</td>\n",
       "      <td>6.0</td>\n",
       "      <td>1.0</td>\n",
       "      <td>2670.0</td>\n",
       "    </tr>\n",
       "    <tr>\n",
       "      <th>6</th>\n",
       "      <td>1974</td>\n",
       "      <td>30.0</td>\n",
       "      <td>1</td>\n",
       "      <td>5.0</td>\n",
       "      <td>4.0</td>\n",
       "      <td>6870.0</td>\n",
       "    </tr>\n",
       "    <tr>\n",
       "      <th>7</th>\n",
       "      <td>1974</td>\n",
       "      <td>48.0</td>\n",
       "      <td>1</td>\n",
       "      <td>5.0</td>\n",
       "      <td>4.0</td>\n",
       "      <td>7860.0</td>\n",
       "    </tr>\n",
       "  </tbody>\n",
       "</table>\n",
       "</div>"
      ],
      "text/plain": [
       "        year   age  sex  polviews  partyid  indus10\n",
       "caseid                                             \n",
       "1       1974  21.0    1       4.0      2.0   4970.0\n",
       "2       1974  41.0    1       5.0      0.0   9160.0\n",
       "5       1974  58.0    2       6.0      1.0   2670.0\n",
       "6       1974  30.0    1       5.0      4.0   6870.0\n",
       "7       1974  48.0    1       5.0      4.0   7860.0"
      ]
     },
     "metadata": {},
     "output_type": "display_data"
    },
    {
     "name": "stdout",
     "output_type": "stream",
     "text": [
      "\n",
      "\n",
      "<class 'pandas.core.frame.DataFrame'>\n",
      "Int64Index: 49290 entries, 1 to 2867\n",
      "Data columns (total 6 columns):\n",
      " #   Column    Non-Null Count  Dtype  \n",
      "---  ------    --------------  -----  \n",
      " 0   year      49290 non-null  int64  \n",
      " 1   age       49290 non-null  float64\n",
      " 2   sex       49290 non-null  int64  \n",
      " 3   polviews  49290 non-null  float64\n",
      " 4   partyid   49290 non-null  float64\n",
      " 5   indus10   49290 non-null  float64\n",
      "dtypes: float64(4), int64(2)\n",
      "memory usage: 2.6 MB\n"
     ]
    },
    {
     "data": {
      "text/plain": [
       "None"
      ]
     },
     "metadata": {},
     "output_type": "display_data"
    }
   ],
   "source": [
    "gss = pd.read_csv('gss_bayes.csv',index_col=0)\n",
    "display(gss.head())\n",
    "print(\"\\n\")\n",
    "display(gss.info())"
   ]
  },
  {
   "cell_type": "markdown",
   "metadata": {},
   "source": [
    "O `DataFrame` tem uma linha para cada pessoa e cada coluna representa uma variável.\n",
    "\n",
    "As colunas são\n",
    "\n",
    "* `caseid`: Respondent id (which is the index of the table).\n",
    "\n",
    "* `year`: Year when the respondent was surveyed.\n",
    "\n",
    "* `age`: Respondent's age when surveyed.\n",
    "\n",
    "* `sex`: Male or female.\n",
    "\n",
    "* `polviews`: Political views on a range from liberal to conservative.\n",
    "\n",
    "* `partyid`: Political party affiliation, Democrat, Independent, or Republican.\n",
    "\n",
    "* `indus10`: [Code](https://www.census.gov/cgi-bin/sssd/naics/naicsrch?chart=2007) for the industry the respondent works in."
   ]
  },
  {
   "cell_type": "markdown",
   "metadata": {},
   "source": [
    "### O método para construção da representação das proposições lógicas a partir do dataset, foram feitas por meio da utilização da indexação booleana nos DataFrames"
   ]
  },
  {
   "cell_type": "markdown",
   "metadata": {},
   "source": [
    "O objeto Series, banker, separa os indivíduos entre bancários ou não, por meio da indexação booleana\n",
    "\n",
    "6870: código da profissão de bancário"
   ]
  },
  {
   "cell_type": "code",
   "execution_count": 3,
   "metadata": {
    "scrolled": true
   },
   "outputs": [
    {
     "data": {
      "text/plain": [
       "caseid\n",
       "1       False\n",
       "2       False\n",
       "5       False\n",
       "6        True\n",
       "7       False\n",
       "        ...  \n",
       "2863    False\n",
       "2864    False\n",
       "2865    False\n",
       "2866    False\n",
       "2867    False\n",
       "Name: indus10, Length: 49290, dtype: bool"
      ]
     },
     "execution_count": 3,
     "metadata": {},
     "output_type": "execute_result"
    }
   ],
   "source": [
    "banker = (gss['indus10'] == 6870)\n",
    "banker"
   ]
  },
  {
   "cell_type": "markdown",
   "metadata": {},
   "source": [
    "True=1; False=0\n",
    "\n",
    "banker.sum() soma essa série obedecendo a quantificação acima, o resultado indica o total de bancários no universo total"
   ]
  },
  {
   "cell_type": "code",
   "execution_count": 4,
   "metadata": {},
   "outputs": [
    {
     "data": {
      "text/plain": [
       "728"
      ]
     },
     "execution_count": 4,
     "metadata": {},
     "output_type": "execute_result"
    }
   ],
   "source": [
    "banker.sum()"
   ]
  },
  {
   "cell_type": "markdown",
   "metadata": {},
   "source": [
    "Calcula a média do objeto Series, considerando novamente True=1; False=0"
   ]
  },
  {
   "cell_type": "code",
   "execution_count": 5,
   "metadata": {},
   "outputs": [
    {
     "data": {
      "text/plain": [
       "0.014769730168391155"
      ]
     },
     "execution_count": 5,
     "metadata": {},
     "output_type": "execute_result"
    }
   ],
   "source": [
    "banker.mean()"
   ]
  },
  {
   "cell_type": "markdown",
   "metadata": {},
   "source": [
    "A expressão, ``(gss['indus10'] == 6870)`` que define o objeto Series associado à verificação de quais elementos são bancários ou não, se trata de uma proposição que para cada linha do DataFrame verifica se a proposição ``(gss['indus10'] == 6870)`` é verdadeira ou não.\n",
    "Para finalizar e aumentar o grau de abstração, a proposição foi associada à variável banker, para ser manuseada mais facilmente."
   ]
  },
  {
   "cell_type": "code",
   "execution_count": 6,
   "metadata": {},
   "outputs": [],
   "source": [
    "def prob(A):\n",
    "    \"\"\"\n",
    "    Calcula a probabilidade da proposição A.\n",
    "    Utiliza o mesmo método anterior, ao utilizar o objeto Series como espaço\n",
    "    amostral e o Booleano como definição da ocorrência do evento que\n",
    "    a proposição representa.\n",
    "    O float A.mean() representa a proporção de elementos do espaço amostral \n",
    "    que satisfazem as condições declaradas na proposição, ou, associadas\n",
    "    ao evento.\n",
    "    A: evento associado à proposição A\n",
    "    A.sum(): quantidade de vezes que o evento ocorre no espaço amostral\n",
    "    A.mean(): calcula a probabilidade frequentista do evento A no espaço amostral\n",
    "    representado pelo DataFrame.\n",
    "    \"\"\"\n",
    "    return A.mean()"
   ]
  },
  {
   "cell_type": "markdown",
   "metadata": {},
   "source": [
    "Utilização da definição generalizada para o cálculo da probabilidade de uma pessoa ser bancária dada a amostra total (espaço amostral)"
   ]
  },
  {
   "cell_type": "code",
   "execution_count": 7,
   "metadata": {},
   "outputs": [
    {
     "data": {
      "text/plain": [
       "0.014769730168391155"
      ]
     },
     "execution_count": 7,
     "metadata": {},
     "output_type": "execute_result"
    }
   ],
   "source": [
    "prob(banker)"
   ]
  },
  {
   "cell_type": "markdown",
   "metadata": {},
   "source": [
    "Proposição que define a variável aleatória indicadora da presença de mulheres\n",
    "no espaço amostral. A coluna `sex`é codificada da seguinte forma:\n",
    "\n",
    "```\n",
    "1    Male\n",
    "2    Female\n",
    "```"
   ]
  },
  {
   "cell_type": "code",
   "execution_count": 8,
   "metadata": {},
   "outputs": [
    {
     "data": {
      "text/plain": [
       "0.5378575776019476"
      ]
     },
     "execution_count": 8,
     "metadata": {},
     "output_type": "execute_result"
    }
   ],
   "source": [
    "female = (gss['sex'] == 2)\n",
    "prob(female)"
   ]
  },
  {
   "cell_type": "markdown",
   "metadata": {},
   "source": [
    "Proposição que define a variável aleatória indicadora da presença de liberais\n",
    "no espaço amostral. A codificação da coluna `polviews` que contem o posicionamento político das pessoas presentes no dataset:\n",
    "\n",
    "```\n",
    "1\tExtremely liberal\n",
    "2\tLiberal\n",
    "3\tSlightly liberal\n",
    "4\tModerate\n",
    "5\tSlightly conservative\n",
    "6\tConservative\n",
    "7\tExtremely conservative\n",
    "```"
   ]
  },
  {
   "cell_type": "code",
   "execution_count": 9,
   "metadata": {},
   "outputs": [
    {
     "data": {
      "text/plain": [
       "0.27374721038750255"
      ]
     },
     "execution_count": 9,
     "metadata": {},
     "output_type": "execute_result"
    }
   ],
   "source": [
    "liberal = (gss['polviews'] <= 3)\n",
    "prob(liberal)"
   ]
  },
  {
   "cell_type": "markdown",
   "metadata": {},
   "source": [
    "Proposição que define a variável aleatória indicadora de  democratas \n",
    "no espaço amostral. A codificação da coluna `partyid` que contem as afiliações políticas de cada pessoa:\n",
    "\n",
    "```\n",
    "0\tStrong democrat\n",
    "1\tNot strong democrat\n",
    "2\tIndependent, near democrat\n",
    "3\tIndependent\n",
    "4\tIndependent, near republican\n",
    "5\tNot strong republican\n",
    "6\tStrong republican\n",
    "7\tOther party\n",
    "```"
   ]
  },
  {
   "cell_type": "code",
   "execution_count": 10,
   "metadata": {},
   "outputs": [
    {
     "data": {
      "text/plain": [
       "0.3662609048488537"
      ]
     },
     "execution_count": 10,
     "metadata": {},
     "output_type": "execute_result"
    }
   ],
   "source": [
    "democrat = (gss['partyid'] <= 1)\n",
    "prob(democrat)"
   ]
  },
  {
   "cell_type": "markdown",
   "metadata": {},
   "source": [
    "É possível calcular a probabilidade da interseção entre os dois conjuntos.\n",
    "* `prob(banker & democrat)`: indica a probabilidade de ser bancário e democrata simultaneamente"
   ]
  },
  {
   "cell_type": "code",
   "execution_count": 11,
   "metadata": {},
   "outputs": [
    {
     "data": {
      "text/plain": [
       "0.004686548995739501"
      ]
     },
     "execution_count": 11,
     "metadata": {},
     "output_type": "execute_result"
    }
   ],
   "source": [
    "prob(banker & democrat)"
   ]
  },
  {
   "cell_type": "markdown",
   "metadata": {},
   "source": [
    "A função `prob`definida anteriormente respeita comutatividade da interseção. Observe no exemplo abaixo:"
   ]
  },
  {
   "cell_type": "code",
   "execution_count": 12,
   "metadata": {},
   "outputs": [
    {
     "data": {
      "text/plain": [
       "True"
      ]
     },
     "execution_count": 12,
     "metadata": {},
     "output_type": "execute_result"
    }
   ],
   "source": [
    "prob(democrat & banker) == prob(banker & democrat)"
   ]
  },
  {
   "cell_type": "markdown",
   "metadata": {},
   "source": [
    "Vamos analisar a expressão `selected = democrat[liberal]`.\n",
    "\n",
    "`liberal` e `democrat`são objetos `Series` definidos a partir do mesmo `DataFrame`. Dadas as propriedades operatórias desses objetos, a expressão `democrat[liberal]`, representa indexação booleana utilizando apenas os elementos em que a proposição associada à `liberal`seja verdadeira.\n",
    "\n",
    "Resumindo `democrat[liberal]` verifica a validade da proposição `democrat` apenas nas linhas em que o objeto `Series` (`liberal`) é `True`. Ou seja, reduz o espaço amostral, que antes era de todas as linhas do `DataFrame`, para as linhas que possuem valor menor ou igual a 3 na coluna `polviews`.\n",
    "\n",
    "Nesse espaço amostral reduzido, verificamos que a probabilidade de ser democrata sobe para 0.52 em relação ao valor em todo espaço amostral que é igual a 0.27"
   ]
  },
  {
   "cell_type": "markdown",
   "metadata": {},
   "source": [
    "$P$(`democrat`|`liberal`) = `prob(democrat[liberal])`"
   ]
  },
  {
   "cell_type": "code",
   "execution_count": 13,
   "metadata": {},
   "outputs": [
    {
     "data": {
      "text/plain": [
       "0.5206403320240125"
      ]
     },
     "execution_count": 13,
     "metadata": {},
     "output_type": "execute_result"
    }
   ],
   "source": [
    "selected = democrat[liberal]\n",
    "prob(selected)"
   ]
  },
  {
   "cell_type": "markdown",
   "metadata": {},
   "source": [
    "No presente caso verificamos a proporção de ser mulher dado que a profissão é ser bancário."
   ]
  },
  {
   "cell_type": "markdown",
   "metadata": {},
   "source": [
    "$P$(`female`|`banker`) = `prob(female[banker])`"
   ]
  },
  {
   "cell_type": "code",
   "execution_count": 14,
   "metadata": {},
   "outputs": [
    {
     "data": {
      "text/plain": [
       "0.7706043956043956"
      ]
     },
     "execution_count": 14,
     "metadata": {},
     "output_type": "execute_result"
    }
   ],
   "source": [
    "selected = female[banker]\n",
    "prob(selected)"
   ]
  },
  {
   "cell_type": "code",
   "execution_count": 15,
   "metadata": {},
   "outputs": [],
   "source": [
    "def conditional(proposition,given):\n",
    "    \"\"\"Calcula a probabilidade condicional\n",
    "    P(A|B)\n",
    "    argumento 1: A\n",
    "    argumento 2: B\"\"\"\n",
    "    return prob(proposition[given])"
   ]
  },
  {
   "cell_type": "markdown",
   "metadata": {},
   "source": [
    "A diferença da probabilidade condicional para a probabilidade da interseção, está em que a probabilidade condicional renormaliza o espaço amostral, considerando apenas a fração do espaço amostral ocupada pela nova informação que foi dada, que restringe parte do espaço amostral."
   ]
  },
  {
   "cell_type": "code",
   "execution_count": 16,
   "metadata": {},
   "outputs": [
    {
     "data": {
      "text/plain": [
       "0.27581004111500884"
      ]
     },
     "execution_count": 16,
     "metadata": {},
     "output_type": "execute_result"
    }
   ],
   "source": [
    "# Calcula a proporção de liberais no universo de mulheres\n",
    "conditional(liberal,female)"
   ]
  },
  {
   "cell_type": "code",
   "execution_count": 17,
   "metadata": {},
   "outputs": [
    {
     "data": {
      "text/plain": [
       "0.5419106203216483"
      ]
     },
     "execution_count": 17,
     "metadata": {},
     "output_type": "execute_result"
    }
   ],
   "source": [
    "# Calcula a proporção de mulheres dado o universo dos liberais \n",
    "conditional(female,liberal)"
   ]
  },
  {
   "cell_type": "code",
   "execution_count": 18,
   "metadata": {},
   "outputs": [
    {
     "data": {
      "text/plain": [
       "0.7706043956043956"
      ]
     },
     "execution_count": 18,
     "metadata": {},
     "output_type": "execute_result"
    }
   ],
   "source": [
    "# Calcula a proporção de mulheres dado o universo dos bancários \n",
    "conditional(female,banker)"
   ]
  },
  {
   "cell_type": "code",
   "execution_count": 19,
   "metadata": {},
   "outputs": [
    {
     "data": {
      "text/plain": [
       "0.02116102749801969"
      ]
     },
     "execution_count": 19,
     "metadata": {},
     "output_type": "execute_result"
    }
   ],
   "source": [
    "# Calcula a proporção de bancárias dado o universo das mulheres \n",
    "conditional(banker,female)"
   ]
  },
  {
   "cell_type": "code",
   "execution_count": 20,
   "metadata": {},
   "outputs": [
    {
     "data": {
      "text/plain": [
       "0.576085409252669"
      ]
     },
     "execution_count": 20,
     "metadata": {},
     "output_type": "execute_result"
    }
   ],
   "source": [
    "\"\"\"Calcula a proporção de mulheres dado o universo das pessoas que são\n",
    "liberais e democratas simultaneamente\"\"\"\n",
    "\n",
    "conditional(female,liberal & democrat)"
   ]
  },
  {
   "cell_type": "code",
   "execution_count": 21,
   "metadata": {},
   "outputs": [
    {
     "data": {
      "text/plain": [
       "0.17307692307692307"
      ]
     },
     "execution_count": 21,
     "metadata": {},
     "output_type": "execute_result"
    }
   ],
   "source": [
    "\"\"\"Calcula a proporção de pessoas que são mulheres e liberais simultaneamente,\n",
    "dado o universo das pesssoas que são bancárias.\"\"\"\n",
    "conditional(liberal & female, banker)"
   ]
  },
  {
   "cell_type": "markdown",
   "metadata": {},
   "source": [
    "# Laws of Probability"
   ]
  },
  {
   "cell_type": "markdown",
   "metadata": {},
   "source": [
    "1) Usar a interseção para calcular a probabilidade condicional\n",
    "\n",
    "## $P(A|B) = \\frac{P(A \\cap B)}{P(B)}$"
   ]
  },
  {
   "cell_type": "markdown",
   "metadata": {},
   "source": [
    "2) Usar a probabilidade condicional para calcular a interseção \n",
    "\n",
    "## $P(A \\cap B) = P(A|B) \\cdot P(B)$"
   ]
  },
  {
   "cell_type": "markdown",
   "metadata": {},
   "source": [
    "3) Usar P(A|B) para calcular P(B|A) (teorema de Bayes)\n",
    "\n",
    "## $P(A|B) = \\frac{P(A)}{P(B)} \\cdot P(B|A)$"
   ]
  },
  {
   "cell_type": "markdown",
   "metadata": {},
   "source": [
    "## Exemplo 1 "
   ]
  },
  {
   "cell_type": "markdown",
   "metadata": {},
   "source": [
    "Como calcular a proporção de bancários que são mulheres?\n",
    "\n",
    "1) Usa a operação `x[y]` para aplicar a VA `x` no espaço amostral reduzido dado \n",
    "pela VA `y` <br>\n",
    "2) Cada VA tem como característica ser uma simples função indicadora, portanto com as seguintes definições podemos interpretar a expressão\n",
    "\n",
    "`female[banker]`: indica dentre os elementos do objeto `Series` `banker`, cujo valor é `True`, quais deles também possuem o valor `True` para a proposição representada pela variável `female`. Lembrando que todos os dados são oriundos do `DataFrame` `gss`, que nesse caso se trata do espaço amostral"
   ]
  },
  {
   "cell_type": "code",
   "execution_count": 22,
   "metadata": {},
   "outputs": [
    {
     "name": "stdout",
     "output_type": "stream",
     "text": [
      "female[banker].mean() =  0.7706043956043956\n",
      "conditional(female,banker) = 0.7706043956043956\n",
      "prob(female & banker)/prob(banker) = 0.7706043956043956\n"
     ]
    }
   ],
   "source": [
    "print(f\"\"\"female[banker].mean() =  {female[banker].mean()}\n",
    "conditional(female,banker) = {conditional(female,banker)}\n",
    "prob(female & banker)/prob(banker) = {prob(female & banker)/prob(banker)}\"\"\")"
   ]
  },
  {
   "cell_type": "code",
   "execution_count": 23,
   "metadata": {},
   "outputs": [
    {
     "data": {
      "text/plain": [
       "(True, True, True)"
      ]
     },
     "execution_count": 23,
     "metadata": {},
     "output_type": "execute_result"
    }
   ],
   "source": [
    "(conditional(female,banker) == female[banker].mean(),\n",
    "conditional(female,banker) == prob(female & banker)/prob(banker),\n",
    "prob(female & banker)/prob(banker) == female[banker].mean())"
   ]
  },
  {
   "cell_type": "markdown",
   "metadata": {},
   "source": [
    "## Exemplo 2"
   ]
  },
  {
   "cell_type": "markdown",
   "metadata": {},
   "source": [
    "Como calcular a quantidade de pessoas que são liberais e democratas simultaneamente?"
   ]
  },
  {
   "cell_type": "code",
   "execution_count": 24,
   "metadata": {},
   "outputs": [
    {
     "data": {
      "text/plain": [
       "0.1425238385067965"
      ]
     },
     "execution_count": 24,
     "metadata": {},
     "output_type": "execute_result"
    }
   ],
   "source": [
    "# cálculo da probabilidade da interseção\n",
    "prob(liberal & democrat)"
   ]
  },
  {
   "cell_type": "code",
   "execution_count": 25,
   "metadata": {},
   "outputs": [
    {
     "data": {
      "text/plain": [
       "0.1425238385067965"
      ]
     },
     "execution_count": 25,
     "metadata": {},
     "output_type": "execute_result"
    }
   ],
   "source": [
    "# manipulação da fórmula da probabilidade condicional (equação 2)\n",
    "conditional(liberal,democrat)*prob(democrat)"
   ]
  },
  {
   "cell_type": "code",
   "execution_count": 26,
   "metadata": {},
   "outputs": [
    {
     "data": {
      "text/plain": [
       "True"
      ]
     },
     "execution_count": 26,
     "metadata": {},
     "output_type": "execute_result"
    }
   ],
   "source": [
    "prob(liberal & democrat) == conditional(liberal,democrat)*prob(democrat)"
   ]
  },
  {
   "cell_type": "markdown",
   "metadata": {},
   "source": [
    "## Exemplo 3"
   ]
  },
  {
   "cell_type": "markdown",
   "metadata": {},
   "source": [
    "Como calcular a proporção de liberais no universo das pessoas que são bancários?"
   ]
  },
  {
   "cell_type": "code",
   "execution_count": 27,
   "metadata": {},
   "outputs": [
    {
     "data": {
      "text/plain": [
       "0.2239010989010989"
      ]
     },
     "execution_count": 27,
     "metadata": {},
     "output_type": "execute_result"
    }
   ],
   "source": [
    "# uso direto da fórmula da probabilidade condicional\n",
    "conditional(liberal,banker)"
   ]
  },
  {
   "cell_type": "code",
   "execution_count": 28,
   "metadata": {},
   "outputs": [
    {
     "data": {
      "text/plain": [
       "0.22390109890109894"
      ]
     },
     "execution_count": 28,
     "metadata": {},
     "output_type": "execute_result"
    }
   ],
   "source": [
    "# manipulação da fórmula da probabilidade condicional (equação 3)\n",
    "(prob(liberal)/prob(banker))*conditional(banker,liberal)"
   ]
  },
  {
   "cell_type": "markdown",
   "metadata": {},
   "source": [
    "# Lei da probabilidade total\n",
    "## Partição do conjunto A\n",
    "\n",
    "Condições necessárias e suficientes para a verificação da partição \n",
    "\n",
    "### $ B_1 \\neq \\emptyset $  e  $ A \\cap B_1 \\neq \\emptyset $\n",
    "\n",
    "### $ B_2 \\neq \\emptyset $  e  $ A \\cap B_2 \\neq \\emptyset $\n",
    "\n",
    "### $ B_1 \\cap B_2 = \\emptyset $\n",
    "\n",
    "### $ (A \\cap B_1) \\cup (A \\cap B_2) = A $\n",
    "\n",
    "## Probabilidade da união de conjuntos disjuntos \n",
    "\n",
    "### $ P(A) = P((A \\cap B_1) \\cup (A \\cap B_2)) $\n",
    "\n",
    "### $ P((A \\cap B_1) \\cup (A \\cap B_2)) = P(A \\cap B_1) + P(A \\cap B_2) [1] $\n",
    "\n",
    "### $ P(A \\cap B_1) = P(A|B_1)\\cdot P(B_1) $\n",
    "\n",
    "### $ P(A \\cap B_2) = P(A|B_2)\\cdot P(B_2) $\n",
    "\n",
    "### $ P((A \\cap B_1) \\cup (A \\cap B_2)) = P(A|B_1)\\cdot P(B_1) + P(A|B_2)\\cdot P(B_2) [2] $"
   ]
  },
  {
   "cell_type": "markdown",
   "metadata": {},
   "source": [
    "Como calcular a proporção de bancários em toda amostra?\n",
    "\n",
    "Sabendo que a divisão da amostra por sexo, implica numa partição, pois não há como ser homem e mulher simultaneamente, então essa partição será utilizada"
   ]
  },
  {
   "cell_type": "code",
   "execution_count": 29,
   "metadata": {},
   "outputs": [
    {
     "data": {
      "text/plain": [
       "0.014769730168391155"
      ]
     },
     "execution_count": 29,
     "metadata": {},
     "output_type": "execute_result"
    }
   ],
   "source": [
    "prob(banker)"
   ]
  },
  {
   "cell_type": "code",
   "execution_count": 30,
   "metadata": {},
   "outputs": [
    {
     "data": {
      "text/plain": [
       "0.014769730168391155"
      ]
     },
     "execution_count": 30,
     "metadata": {},
     "output_type": "execute_result"
    }
   ],
   "source": [
    "# uso da equação 1\n",
    "male = (gss['sex'] == 1)\n",
    "total_prob_intersec = prob(banker & male) + prob(banker & female)\n",
    "total_prob_intersec"
   ]
  },
  {
   "cell_type": "code",
   "execution_count": 31,
   "metadata": {},
   "outputs": [
    {
     "data": {
      "text/plain": [
       "0.014769730168391153"
      ]
     },
     "execution_count": 31,
     "metadata": {},
     "output_type": "execute_result"
    }
   ],
   "source": [
    "# uso da equação 2\n",
    "total_prob_cond = (conditional(banker,male)*prob(male) + \n",
    "              conditional(banker,female)*prob(female))\n",
    "total_prob_cond"
   ]
  },
  {
   "cell_type": "markdown",
   "metadata": {},
   "source": [
    "Agora será utilizada a generalização da partição de um conjunto A por $n$ conjuntos\n",
    "\n",
    "## $ P(A) = \\sum_{i=1}^{n} P(A|B_i)P(B_i) $\n",
    "\n",
    "A probabilidade de ser bancário será obtida por meio da soma de sete probabilidades que formam a partição da população devido a sua posição política"
   ]
  },
  {
   "cell_type": "code",
   "execution_count": 32,
   "metadata": {},
   "outputs": [],
   "source": [
    "B = gss['polviews']"
   ]
  },
  {
   "cell_type": "code",
   "execution_count": 33,
   "metadata": {},
   "outputs": [
    {
     "name": "stdout",
     "output_type": "stream",
     "text": [
      "Conta a quantidade de elementos associado à cada valor da variável qualitativa\n",
      "polviews\n"
     ]
    },
    {
     "data": {
      "text/plain": [
       "4.0    18943\n",
       "5.0     7940\n",
       "6.0     7319\n",
       "3.0     6243\n",
       "2.0     5808\n",
       "7.0     1595\n",
       "1.0     1442\n",
       "Name: polviews, dtype: int64"
      ]
     },
     "metadata": {},
     "output_type": "display_data"
    },
    {
     "name": "stdout",
     "output_type": "stream",
     "text": [
      "\n",
      "Ordena os dados que foram agrupados após a contagem\n"
     ]
    },
    {
     "data": {
      "text/plain": [
       "1.0     1442\n",
       "2.0     5808\n",
       "3.0     6243\n",
       "4.0    18943\n",
       "5.0     7940\n",
       "6.0     7319\n",
       "7.0     1595\n",
       "Name: polviews, dtype: int64"
      ]
     },
     "metadata": {},
     "output_type": "display_data"
    }
   ],
   "source": [
    "print('''Conta a quantidade de elementos associado à cada valor da variável qualitativa\n",
    "polviews''')\n",
    "display(B.value_counts())\n",
    "\n",
    "print('''\\nOrdena os dados que foram agrupados após a contagem''')\n",
    "display(B.value_counts().sort_index())"
   ]
  },
  {
   "cell_type": "markdown",
   "metadata": {},
   "source": [
    "Calculando a probabilidade de um bancário ser moderado $(i=4)$:"
   ]
  },
  {
   "cell_type": "code",
   "execution_count": 34,
   "metadata": {
    "scrolled": true
   },
   "outputs": [
    {
     "data": {
      "text/plain": [
       "0.005822682085615744"
      ]
     },
     "execution_count": 34,
     "metadata": {},
     "output_type": "execute_result"
    }
   ],
   "source": [
    "i = 4\n",
    "prob(B==i)*conditional(banker,B==i)"
   ]
  },
  {
   "cell_type": "markdown",
   "metadata": {},
   "source": [
    "Utilizando a probabilidade total por meio da função soma em conjunto com o iterador for. O iterador percorre o conjunto, que se trata de um objeto Series com a posição política de cada item da amostra, e a função sum, soma cada valor percorrido com a soma parcial até o presente momento."
   ]
  },
  {
   "cell_type": "code",
   "execution_count": 35,
   "metadata": {},
   "outputs": [
    {
     "data": {
      "text/plain": [
       "0.014769730168391157"
      ]
     },
     "execution_count": 35,
     "metadata": {},
     "output_type": "execute_result"
    }
   ],
   "source": [
    "sum(prob(B==i) * conditional(banker, B==i) for i in range(1, 8))"
   ]
  },
  {
   "cell_type": "code",
   "execution_count": null,
   "metadata": {},
   "outputs": [],
   "source": []
  }
 ],
 "metadata": {
  "kernelspec": {
   "display_name": "Python 3",
   "language": "python",
   "name": "python3"
  },
  "language_info": {
   "codemirror_mode": {
    "name": "ipython",
    "version": 3
   },
   "file_extension": ".py",
   "mimetype": "text/x-python",
   "name": "python",
   "nbconvert_exporter": "python",
   "pygments_lexer": "ipython3",
   "version": "3.7.6"
  }
 },
 "nbformat": 4,
 "nbformat_minor": 4
}
