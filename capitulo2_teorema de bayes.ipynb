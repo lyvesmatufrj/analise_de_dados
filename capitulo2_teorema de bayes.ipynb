{
 "cells": [
  {
   "cell_type": "markdown",
   "metadata": {},
   "source": [
    "# Capítulo 2 - Teorema de Bayes\n",
    "## Leonardo Yves de Souza Melo\n",
    "### (21)971771433 | prof.leoyves@gmail.com\n",
    "## Fonte:\n",
    "### 1) Think Bayes, Bayesian Statistics in Python - Allen B. Downey; Capítulo 2"
   ]
  },
  {
   "cell_type": "markdown",
   "metadata": {},
   "source": [
    "# Bibliotecas"
   ]
  },
  {
   "cell_type": "code",
   "execution_count": 1,
   "metadata": {},
   "outputs": [],
   "source": [
    "import pandas as pd\n",
    "import numpy as np"
   ]
  },
  {
   "cell_type": "markdown",
   "metadata": {},
   "source": [
    "# Exemplo 1"
   ]
  },
  {
   "cell_type": "markdown",
   "metadata": {},
   "source": [
    "Supondo que você escolheu uma das tigelas ao acaso e sem olhar, pegou um cookie aleatoriamente. Se o cookie é de baunilha, qual é a probabilidade dele ser proveniente da tigela 1?\n",
    "\n",
    "Ou seja, qual é o valor de $P(B_1|V)$?"
   ]
  },
  {
   "cell_type": "markdown",
   "metadata": {},
   "source": [
    "$B_1$: evento associado à escolha ao acaso da tigela 1 na retirada de um biscoito\n",
    "\n",
    "$B_2$: evento associado à escolha ao acaso da tigela 2 na retirada de um biscoito\n",
    "\n",
    "$V$: evento associado à escolha ao acaso de um biscoito de baunilha independente da tigela escolhida \n",
    "\n",
    "$C$: evento associado à escolha ao acaso de um biscoito de chocolate independente da tigela escolhida "
   ]
  },
  {
   "cell_type": "code",
   "execution_count": 2,
   "metadata": {},
   "outputs": [
    {
     "data": {
      "text/html": [
       "<div>\n",
       "<style scoped>\n",
       "    .dataframe tbody tr th:only-of-type {\n",
       "        vertical-align: middle;\n",
       "    }\n",
       "\n",
       "    .dataframe tbody tr th {\n",
       "        vertical-align: top;\n",
       "    }\n",
       "\n",
       "    .dataframe thead th {\n",
       "        text-align: right;\n",
       "    }\n",
       "</style>\n",
       "<table border=\"1\" class=\"dataframe\">\n",
       "  <thead>\n",
       "    <tr style=\"text-align: right;\">\n",
       "      <th></th>\n",
       "      <th>Vanilla</th>\n",
       "      <th>Chocolate</th>\n",
       "      <th>Total</th>\n",
       "    </tr>\n",
       "  </thead>\n",
       "  <tbody>\n",
       "    <tr>\n",
       "      <th>Bowl 1</th>\n",
       "      <td>30</td>\n",
       "      <td>10</td>\n",
       "      <td>40</td>\n",
       "    </tr>\n",
       "    <tr>\n",
       "      <th>Bowl 2</th>\n",
       "      <td>20</td>\n",
       "      <td>20</td>\n",
       "      <td>40</td>\n",
       "    </tr>\n",
       "  </tbody>\n",
       "</table>\n",
       "</div>"
      ],
      "text/plain": [
       "        Vanilla  Chocolate  Total\n",
       "Bowl 1       30         10     40\n",
       "Bowl 2       20         20     40"
      ]
     },
     "execution_count": 2,
     "metadata": {},
     "output_type": "execute_result"
    }
   ],
   "source": [
    "# DataFrame com a quantidade de biscoitos em cada tigela, e seus sabores\n",
    "t_ = pd.DataFrame(index=['Bowl 1','Bowl 2'])\n",
    "t_['Vanilla'] = 30,20\n",
    "t_['Chocolate'] = 10,20\n",
    "t_['Total'] = 40,40\n",
    "t_"
   ]
  },
  {
   "cell_type": "markdown",
   "metadata": {},
   "source": [
    "* Construção do DataFrame com o index referente à cada tigela\n",
    "* ``table['prior']``: gera a coluna com às probabilidades a priori de cada tigela ser escolhida ao acaso, $P(B_1)$ e $P(B_2)$"
   ]
  },
  {
   "cell_type": "code",
   "execution_count": 3,
   "metadata": {},
   "outputs": [
    {
     "data": {
      "text/html": [
       "<div>\n",
       "<style scoped>\n",
       "    .dataframe tbody tr th:only-of-type {\n",
       "        vertical-align: middle;\n",
       "    }\n",
       "\n",
       "    .dataframe tbody tr th {\n",
       "        vertical-align: top;\n",
       "    }\n",
       "\n",
       "    .dataframe thead th {\n",
       "        text-align: right;\n",
       "    }\n",
       "</style>\n",
       "<table border=\"1\" class=\"dataframe\">\n",
       "  <thead>\n",
       "    <tr style=\"text-align: right;\">\n",
       "      <th></th>\n",
       "      <th>prior</th>\n",
       "    </tr>\n",
       "  </thead>\n",
       "  <tbody>\n",
       "    <tr>\n",
       "      <th>Bowl 1</th>\n",
       "      <td>0.5</td>\n",
       "    </tr>\n",
       "    <tr>\n",
       "      <th>Bowl 2</th>\n",
       "      <td>0.5</td>\n",
       "    </tr>\n",
       "  </tbody>\n",
       "</table>\n",
       "</div>"
      ],
      "text/plain": [
       "        prior\n",
       "Bowl 1    0.5\n",
       "Bowl 2    0.5"
      ]
     },
     "execution_count": 3,
     "metadata": {},
     "output_type": "execute_result"
    }
   ],
   "source": [
    "table = pd.DataFrame(index=['Bowl 1','Bowl 2'])\n",
    "table['prior'] = 1/2,1/2\n",
    "table"
   ]
  },
  {
   "cell_type": "markdown",
   "metadata": {},
   "source": [
    "# Interpretação do teorema de Bayes a partir da atualização das probabilidades sob a inclusão de novas hipóteses\n",
    "\n",
    "## $ P(H|D) = \\frac{P(H)P(D|H)}{P(D)} $\n",
    "### $H$: hipóteses\n",
    "\n",
    "### $D$: dados\n",
    "\n",
    "### $P(H)$: a priori \n",
    "\n",
    "### $P(H|D)$: a posteriori  \n",
    "\n",
    "### $P(D|H)$: verossimilhança; probabilidade dos dados no espaço amostral reduzido das hipóteses  \n",
    "\n",
    "### $P(D)$: probabilidade dos dados no espaço amostral $\\Omega$\n",
    "\n",
    "## Nesse notebook a correspondência entre as fórmulas e as notações dos DataFrames é dada por\n",
    "\n",
    "* ### $P(H)\\leftrightarrow$ ``table['prior']``\n",
    "* ### $P(D|H)\\leftrightarrow$ ``table['likelihood']``\n",
    "* ### $P(H)P(D|H)\\leftrightarrow$ ``table['unnorm']``\n",
    "* ### $P(D)\\leftrightarrow$ ``prob_data = table['unnorm'].sum()``\n",
    "* ### $P(H|D)\\leftrightarrow$ ``table['unnorm']/prob_data``\n"
   ]
  },
  {
   "cell_type": "markdown",
   "metadata": {},
   "source": [
    "* ``table['likelihood']``: inclui a coluna com as verossimilhanças $P(V|B_1)$ e $P(V|B_2)$\n",
    "\n",
    "* $P(V|B_1)$: probablidade de pegar um biscoito de baunilha dado que se está retirando biscoitos da tigela 1\n",
    "\n",
    "* $P(V|B_2)$: probabilidade de pegar um biscoito de baunilha dado que se está retirando biscoitos da tigela 2"
   ]
  },
  {
   "cell_type": "code",
   "execution_count": 4,
   "metadata": {},
   "outputs": [
    {
     "data": {
      "text/html": [
       "<div>\n",
       "<style scoped>\n",
       "    .dataframe tbody tr th:only-of-type {\n",
       "        vertical-align: middle;\n",
       "    }\n",
       "\n",
       "    .dataframe tbody tr th {\n",
       "        vertical-align: top;\n",
       "    }\n",
       "\n",
       "    .dataframe thead th {\n",
       "        text-align: right;\n",
       "    }\n",
       "</style>\n",
       "<table border=\"1\" class=\"dataframe\">\n",
       "  <thead>\n",
       "    <tr style=\"text-align: right;\">\n",
       "      <th></th>\n",
       "      <th>prior</th>\n",
       "      <th>likelihood</th>\n",
       "    </tr>\n",
       "  </thead>\n",
       "  <tbody>\n",
       "    <tr>\n",
       "      <th>Bowl 1</th>\n",
       "      <td>0.5</td>\n",
       "      <td>0.75</td>\n",
       "    </tr>\n",
       "    <tr>\n",
       "      <th>Bowl 2</th>\n",
       "      <td>0.5</td>\n",
       "      <td>0.50</td>\n",
       "    </tr>\n",
       "  </tbody>\n",
       "</table>\n",
       "</div>"
      ],
      "text/plain": [
       "        prior  likelihood\n",
       "Bowl 1    0.5        0.75\n",
       "Bowl 2    0.5        0.50"
      ]
     },
     "execution_count": 4,
     "metadata": {},
     "output_type": "execute_result"
    }
   ],
   "source": [
    "table['likelihood'] = 3/4, 1/2\n",
    "table"
   ]
  },
  {
   "cell_type": "markdown",
   "metadata": {},
   "source": [
    "Colocando como condição que as hipóteses devem ser mutuamente excludentes e formar uma partição do conjunto de dados, o produto da probabilidade de uma hipótese $H_i$ pela verossimilhança $P(D|H_i)$ representa a probabilidade de $H_i$ interseção $D$ sem ter sido normalizada ainda, no conjunto $D$. Portanto o produto de ``table['prior']`` por ``table['likelihood']`` será chamado de ``table['unnorm']``.\n",
    "\n",
    "No exemplo em questão teremos os produtos:\n",
    "* $P(B_1)P(V|B_1)$\n",
    "* $P(B_2)P(V|B_2)$"
   ]
  },
  {
   "cell_type": "code",
   "execution_count": 5,
   "metadata": {},
   "outputs": [
    {
     "data": {
      "text/html": [
       "<div>\n",
       "<style scoped>\n",
       "    .dataframe tbody tr th:only-of-type {\n",
       "        vertical-align: middle;\n",
       "    }\n",
       "\n",
       "    .dataframe tbody tr th {\n",
       "        vertical-align: top;\n",
       "    }\n",
       "\n",
       "    .dataframe thead th {\n",
       "        text-align: right;\n",
       "    }\n",
       "</style>\n",
       "<table border=\"1\" class=\"dataframe\">\n",
       "  <thead>\n",
       "    <tr style=\"text-align: right;\">\n",
       "      <th></th>\n",
       "      <th>prior</th>\n",
       "      <th>likelihood</th>\n",
       "      <th>unnorm</th>\n",
       "    </tr>\n",
       "  </thead>\n",
       "  <tbody>\n",
       "    <tr>\n",
       "      <th>Bowl 1</th>\n",
       "      <td>0.5</td>\n",
       "      <td>0.75</td>\n",
       "      <td>0.375</td>\n",
       "    </tr>\n",
       "    <tr>\n",
       "      <th>Bowl 2</th>\n",
       "      <td>0.5</td>\n",
       "      <td>0.50</td>\n",
       "      <td>0.250</td>\n",
       "    </tr>\n",
       "  </tbody>\n",
       "</table>\n",
       "</div>"
      ],
      "text/plain": [
       "        prior  likelihood  unnorm\n",
       "Bowl 1    0.5        0.75   0.375\n",
       "Bowl 2    0.5        0.50   0.250"
      ]
     },
     "execution_count": 5,
     "metadata": {},
     "output_type": "execute_result"
    }
   ],
   "source": [
    "table['unnorm'] = table['prior']*table['likelihood']\n",
    "table"
   ]
  },
  {
   "cell_type": "markdown",
   "metadata": {},
   "source": [
    "Utilizando a fórmula do Teorema de Bayes, verificamos que os elementos da coluna ``unnorm`` são as interseções entre o evento $V$ e os eventos $B_i$, $i = 1,2$. Sendo essa probabilidade, computada no espaço amostral contendo as duas tigelas. A coluna ``posterior`` que será adicionada, agora, trata da normalização dessas probabilidades oriundas das interseções citadas.\n",
    "\n",
    "## $P(V|B_i) = \\frac{P(V\\cap B_i)}{P(B_i)} \\rightarrow P(V\\cap B_i) = P(V|B_i)P(B_i)$"
   ]
  },
  {
   "cell_type": "markdown",
   "metadata": {},
   "source": [
    "A probabilidade total $P(D)$ pode ser obtida usando a seguinte fórmula (lei da probabilidade total):\n",
    "* Dadas as hipóteses $H_1,H_2,...,H_n$\n",
    "* $P(D) = \\sum_{i=1}^{n}P(D|H_i)P(H_i)$\n",
    "\n",
    "### No exemplo fica da seguinte forma\n",
    "* $P(V) = P(B_1)P(V|B_1) + P(B_2)P(V|B_2)$\n",
    "\n",
    "Analisando a fórmula, a constatação é óbvia, se trata apenas da soma da coluna ``unnorm`` do DataFrame"
   ]
  },
  {
   "cell_type": "code",
   "execution_count": 6,
   "metadata": {},
   "outputs": [
    {
     "data": {
      "text/plain": [
       "0.625"
      ]
     },
     "execution_count": 6,
     "metadata": {},
     "output_type": "execute_result"
    }
   ],
   "source": [
    "prob_data = table['unnorm'].sum()\n",
    "prob_data"
   ]
  },
  {
   "cell_type": "markdown",
   "metadata": {},
   "source": [
    "Dividindo as probabilidades das hipóteses, não normalizadas pela probabildade total do conjunto de dados, finalizamos o processo com o cálculo das probailidades a posteriori relativa a cada hipótese.\n",
    "\n",
    "## $P(H_i|D) = \\frac{P(D|H_i)P(H_i)}{\\sum_{i=1}^{n}P(D|H_i)P(H_i)}$\n",
    "\n",
    "No nosso exemplo, ficará da seguinte forma\n",
    "## $P(B_1|V) = \\frac{P(V|B_1)P(B_1)}{P(B_1)P(V|B_1) + P(B_2)P(V|B_2)}$\n",
    "## $P(B_2|V) = \\frac{P(V|B_2)P(B_2)}{P(B_1)P(V|B_1) + P(B_2)P(V|B_2)}$"
   ]
  },
  {
   "cell_type": "code",
   "execution_count": 7,
   "metadata": {},
   "outputs": [
    {
     "data": {
      "text/html": [
       "<div>\n",
       "<style scoped>\n",
       "    .dataframe tbody tr th:only-of-type {\n",
       "        vertical-align: middle;\n",
       "    }\n",
       "\n",
       "    .dataframe tbody tr th {\n",
       "        vertical-align: top;\n",
       "    }\n",
       "\n",
       "    .dataframe thead th {\n",
       "        text-align: right;\n",
       "    }\n",
       "</style>\n",
       "<table border=\"1\" class=\"dataframe\">\n",
       "  <thead>\n",
       "    <tr style=\"text-align: right;\">\n",
       "      <th></th>\n",
       "      <th>prior</th>\n",
       "      <th>likelihood</th>\n",
       "      <th>unnorm</th>\n",
       "      <th>posterior</th>\n",
       "    </tr>\n",
       "  </thead>\n",
       "  <tbody>\n",
       "    <tr>\n",
       "      <th>Bowl 1</th>\n",
       "      <td>0.5</td>\n",
       "      <td>0.75</td>\n",
       "      <td>0.375</td>\n",
       "      <td>0.6</td>\n",
       "    </tr>\n",
       "    <tr>\n",
       "      <th>Bowl 2</th>\n",
       "      <td>0.5</td>\n",
       "      <td>0.50</td>\n",
       "      <td>0.250</td>\n",
       "      <td>0.4</td>\n",
       "    </tr>\n",
       "  </tbody>\n",
       "</table>\n",
       "</div>"
      ],
      "text/plain": [
       "        prior  likelihood  unnorm  posterior\n",
       "Bowl 1    0.5        0.75   0.375        0.6\n",
       "Bowl 2    0.5        0.50   0.250        0.4"
      ]
     },
     "execution_count": 7,
     "metadata": {},
     "output_type": "execute_result"
    }
   ],
   "source": [
    "table['posterior'] = table['unnorm']/prob_data\n",
    "table"
   ]
  },
  {
   "cell_type": "markdown",
   "metadata": {},
   "source": [
    "Demonstração de que são probabilidades, pois a soma $P(B_1|V) + P(B_2|V)$ está normalizada"
   ]
  },
  {
   "cell_type": "code",
   "execution_count": 8,
   "metadata": {},
   "outputs": [
    {
     "data": {
      "text/plain": [
       "1.0"
      ]
     },
     "execution_count": 8,
     "metadata": {},
     "output_type": "execute_result"
    }
   ],
   "source": [
    "table['posterior'].sum()"
   ]
  },
  {
   "cell_type": "markdown",
   "metadata": {},
   "source": [
    "# Exemplo 2\n",
    "\n",
    "Supondo que eu tenha em uma caixa, um dado de 6 faces, um de 8 faces e outro de 12 faces. Escolho um dado ao acaso e o lanço, o resultado observado é igual 1. Qual é a probabilidade do dado de 6 faces ter sido o dado escolhido?"
   ]
  },
  {
   "cell_type": "code",
   "execution_count": 9,
   "metadata": {},
   "outputs": [],
   "source": [
    "from fractions import Fraction"
   ]
  },
  {
   "cell_type": "markdown",
   "metadata": {},
   "source": [
    "Construção de um ``DataFrame`` que represente o conjunto dos três dados"
   ]
  },
  {
   "cell_type": "code",
   "execution_count": 10,
   "metadata": {},
   "outputs": [],
   "source": [
    "table2 = pd.DataFrame(index=[6,8,12])\n",
    "table2.index.name = 'número de faces'"
   ]
  },
  {
   "cell_type": "markdown",
   "metadata": {},
   "source": [
    "* ``table2['prior']``: coluna com a probabilidade de escolha de cada um dos dados ao acaso\n",
    "\n",
    "* ``tabel2['likelihood']``: coluna com as probabilidades de se obter o resultado 1, no lançamento de cada um dos dados"
   ]
  },
  {
   "cell_type": "code",
   "execution_count": 11,
   "metadata": {
    "scrolled": true
   },
   "outputs": [
    {
     "data": {
      "text/html": [
       "<div>\n",
       "<style scoped>\n",
       "    .dataframe tbody tr th:only-of-type {\n",
       "        vertical-align: middle;\n",
       "    }\n",
       "\n",
       "    .dataframe tbody tr th {\n",
       "        vertical-align: top;\n",
       "    }\n",
       "\n",
       "    .dataframe thead th {\n",
       "        text-align: right;\n",
       "    }\n",
       "</style>\n",
       "<table border=\"1\" class=\"dataframe\">\n",
       "  <thead>\n",
       "    <tr style=\"text-align: right;\">\n",
       "      <th></th>\n",
       "      <th>prior</th>\n",
       "      <th>likelihood</th>\n",
       "    </tr>\n",
       "    <tr>\n",
       "      <th>número de faces</th>\n",
       "      <th></th>\n",
       "      <th></th>\n",
       "    </tr>\n",
       "  </thead>\n",
       "  <tbody>\n",
       "    <tr>\n",
       "      <th>6</th>\n",
       "      <td>1/3</td>\n",
       "      <td>1/6</td>\n",
       "    </tr>\n",
       "    <tr>\n",
       "      <th>8</th>\n",
       "      <td>1/3</td>\n",
       "      <td>1/8</td>\n",
       "    </tr>\n",
       "    <tr>\n",
       "      <th>12</th>\n",
       "      <td>1/3</td>\n",
       "      <td>1/12</td>\n",
       "    </tr>\n",
       "  </tbody>\n",
       "</table>\n",
       "</div>"
      ],
      "text/plain": [
       "                prior likelihood\n",
       "número de faces                 \n",
       "6                 1/3        1/6\n",
       "8                 1/3        1/8\n",
       "12                1/3       1/12"
      ]
     },
     "execution_count": 11,
     "metadata": {},
     "output_type": "execute_result"
    }
   ],
   "source": [
    "table2['prior'] = Fraction(1,3)\n",
    "table2['likelihood'] = Fraction(1,6),Fraction(1,8),Fraction(1,12)\n",
    "table2"
   ]
  },
  {
   "cell_type": "markdown",
   "metadata": {},
   "source": [
    "Função que automatiza o processo de cálculo, recebendo apenas um ``DataFrame`` com as probabilidades a priori e as verossimilhanças."
   ]
  },
  {
   "cell_type": "code",
   "execution_count": 12,
   "metadata": {},
   "outputs": [],
   "source": [
    "def update(table,show=False):\n",
    "    \"\"\"Cálculo das probabilidades a posteriori\"\"\"\n",
    "    # cálculo das probabilidades não normalizadas\n",
    "    # produto entre a priori e verossimilhança\n",
    "    table['unnorm'] = table['prior']*table['likelihood']\n",
    "    # cálculo da probabilidade dos dados independente da observações\n",
    "    ## com uso da lei da probabilidade total\n",
    "    prob_data = table['unnorm'].sum()\n",
    "    # normalização das probabilidades de table['unnorm']\n",
    "    table['posterior'] = table['unnorm']/prob_data\n",
    "    if show == True:\n",
    "        return prob_data, display(table)\n",
    "    else:\n",
    "        return prob_data"
   ]
  },
  {
   "cell_type": "code",
   "execution_count": 13,
   "metadata": {},
   "outputs": [
    {
     "data": {
      "text/plain": [
       "Fraction(1, 8)"
      ]
     },
     "execution_count": 13,
     "metadata": {},
     "output_type": "execute_result"
    }
   ],
   "source": [
    "prob_data = update(table2)\n",
    "prob_data"
   ]
  },
  {
   "cell_type": "code",
   "execution_count": 14,
   "metadata": {},
   "outputs": [
    {
     "data": {
      "text/html": [
       "<div>\n",
       "<style scoped>\n",
       "    .dataframe tbody tr th:only-of-type {\n",
       "        vertical-align: middle;\n",
       "    }\n",
       "\n",
       "    .dataframe tbody tr th {\n",
       "        vertical-align: top;\n",
       "    }\n",
       "\n",
       "    .dataframe thead th {\n",
       "        text-align: right;\n",
       "    }\n",
       "</style>\n",
       "<table border=\"1\" class=\"dataframe\">\n",
       "  <thead>\n",
       "    <tr style=\"text-align: right;\">\n",
       "      <th></th>\n",
       "      <th>prior</th>\n",
       "      <th>likelihood</th>\n",
       "      <th>unnorm</th>\n",
       "      <th>posterior</th>\n",
       "    </tr>\n",
       "    <tr>\n",
       "      <th>número de faces</th>\n",
       "      <th></th>\n",
       "      <th></th>\n",
       "      <th></th>\n",
       "      <th></th>\n",
       "    </tr>\n",
       "  </thead>\n",
       "  <tbody>\n",
       "    <tr>\n",
       "      <th>6</th>\n",
       "      <td>1/3</td>\n",
       "      <td>1/6</td>\n",
       "      <td>1/18</td>\n",
       "      <td>4/9</td>\n",
       "    </tr>\n",
       "    <tr>\n",
       "      <th>8</th>\n",
       "      <td>1/3</td>\n",
       "      <td>1/8</td>\n",
       "      <td>1/24</td>\n",
       "      <td>1/3</td>\n",
       "    </tr>\n",
       "    <tr>\n",
       "      <th>12</th>\n",
       "      <td>1/3</td>\n",
       "      <td>1/12</td>\n",
       "      <td>1/36</td>\n",
       "      <td>2/9</td>\n",
       "    </tr>\n",
       "  </tbody>\n",
       "</table>\n",
       "</div>"
      ],
      "text/plain": [
       "                prior likelihood unnorm posterior\n",
       "número de faces                                  \n",
       "6                 1/3        1/6   1/18       4/9\n",
       "8                 1/3        1/8   1/24       1/3\n",
       "12                1/3       1/12   1/36       2/9"
      ]
     },
     "execution_count": 14,
     "metadata": {},
     "output_type": "execute_result"
    }
   ],
   "source": [
    "table2"
   ]
  },
  {
   "cell_type": "markdown",
   "metadata": {},
   "source": [
    "### A probabilidade desejada vale $\\frac{4}{9}$"
   ]
  },
  {
   "cell_type": "markdown",
   "metadata": {},
   "source": [
    "# Exemplo 3\n",
    "\n",
    "## The Monty Hall Problem\n",
    "\n",
    "### créditos: http://clubes.obmep.org.br/blog/probabilidades-o-problema-de-monty-hal/\n",
    "\n",
    "Imagine que você está de frente para três portas numeradas – 1, 2 e 3 – e o apresentador diz: <br>\n",
    "\n",
    "*– Atrás de uma dessas portas tem um carro; mas atrás de cada uma das outras duas tem um bode. Escolha uma porta e leve para casa o que estiver atrás dela.*"
   ]
  },
  {
   "cell_type": "markdown",
   "metadata": {},
   "source": [
    "``Data Frame`` que representa as três portas, com a coluna ``prior`` contendo as probabilidades do prêmio estar atrás de uma das três portas"
   ]
  },
  {
   "cell_type": "code",
   "execution_count": 15,
   "metadata": {},
   "outputs": [
    {
     "data": {
      "text/html": [
       "<div>\n",
       "<style scoped>\n",
       "    .dataframe tbody tr th:only-of-type {\n",
       "        vertical-align: middle;\n",
       "    }\n",
       "\n",
       "    .dataframe tbody tr th {\n",
       "        vertical-align: top;\n",
       "    }\n",
       "\n",
       "    .dataframe thead th {\n",
       "        text-align: right;\n",
       "    }\n",
       "</style>\n",
       "<table border=\"1\" class=\"dataframe\">\n",
       "  <thead>\n",
       "    <tr style=\"text-align: right;\">\n",
       "      <th></th>\n",
       "      <th>prior</th>\n",
       "    </tr>\n",
       "  </thead>\n",
       "  <tbody>\n",
       "    <tr>\n",
       "      <th>Door 1</th>\n",
       "      <td>1/3</td>\n",
       "    </tr>\n",
       "    <tr>\n",
       "      <th>Door 2</th>\n",
       "      <td>1/3</td>\n",
       "    </tr>\n",
       "    <tr>\n",
       "      <th>Door 3</th>\n",
       "      <td>1/3</td>\n",
       "    </tr>\n",
       "  </tbody>\n",
       "</table>\n",
       "</div>"
      ],
      "text/plain": [
       "       prior\n",
       "Door 1   1/3\n",
       "Door 2   1/3\n",
       "Door 3   1/3"
      ]
     },
     "execution_count": 15,
     "metadata": {},
     "output_type": "execute_result"
    }
   ],
   "source": [
    "table3 = pd.DataFrame(index=['Door 1','Door 2','Door 3'])\n",
    "table3['prior'] = Fraction(1,3)\n",
    "table3"
   ]
  },
  {
   "cell_type": "markdown",
   "metadata": {},
   "source": [
    "Você vai lá e escolhe uma das três portas; mas antes que você possa abri-la, o apresentador (que sabe exatamente onde está o carro) pede para você esperar e ele abre uma das portas não escolhidas, mostrando um dos bodes. Nesse momento ele faz a seguinte pergunta a você:<br>\n",
    "\n",
    "*– Você quer ficar com a porta que você escolheu ou quer trocá-la pela outra porta fechada?*"
   ]
  },
  {
   "cell_type": "markdown",
   "metadata": {},
   "source": [
    "Supondo que a porta 1 foi a escolhida, a probabilidade de ganhar o prêmio nesse caso, será igual a $\\frac{1}{3}$. Agora, Monty irá abrir uma das portas que não foi escolhida. Supondo que a porta escolhida foi a porta 3. Vamos analisar em termos de eventos.\n",
    "\n",
    "* $C_1$: o carro está atrás da porta 1\n",
    "* $C_2$: o carro está atrás da porta 2\n",
    "* $C_3$: o carro está atrás da porta 3\n",
    "* $A$: Monty escolheu a porta 3\n",
    "\n",
    "Sabendo que a porta 1 foi a escolhida. As probabilidades de Monty abrir a porta 3 dadas as três possibilidades de localização do carro, são as seguintes (essa são as probabilidades de abertura das portas, antes da realização do ato):\n",
    "* $P(A|C_1) = \\frac{1}{2}$ (Monty pode escolher ao acaso tanto a porta 2 quanto a porta 3, pois o carro está atrás da porta 1, que também é a porta escolhida por você);\n",
    "* $P(A|C_2) = 1$ (Monty é obrigado a escolher a porta 3, pois não pode escolher as portas 1 e 2, a porta 1 pelo fato de já ter sido escolhida e a porta 2 por ter um prêmio, nesse caso é bom salientar que você escolheu o bode);\n",
    "* $P(A|C_3) = 0$ (Se o carro estiver na porta 3, então Monty não poderá abrí-la, sendo assim, a probabilidade de ocorrência desse evento é nula);"
   ]
  },
  {
   "cell_type": "code",
   "execution_count": 16,
   "metadata": {},
   "outputs": [
    {
     "data": {
      "text/html": [
       "<div>\n",
       "<style scoped>\n",
       "    .dataframe tbody tr th:only-of-type {\n",
       "        vertical-align: middle;\n",
       "    }\n",
       "\n",
       "    .dataframe tbody tr th {\n",
       "        vertical-align: top;\n",
       "    }\n",
       "\n",
       "    .dataframe thead th {\n",
       "        text-align: right;\n",
       "    }\n",
       "</style>\n",
       "<table border=\"1\" class=\"dataframe\">\n",
       "  <thead>\n",
       "    <tr style=\"text-align: right;\">\n",
       "      <th></th>\n",
       "      <th>prior</th>\n",
       "      <th>likelihood</th>\n",
       "    </tr>\n",
       "  </thead>\n",
       "  <tbody>\n",
       "    <tr>\n",
       "      <th>Door 1</th>\n",
       "      <td>1/3</td>\n",
       "      <td>1/2</td>\n",
       "    </tr>\n",
       "    <tr>\n",
       "      <th>Door 2</th>\n",
       "      <td>1/3</td>\n",
       "      <td>1</td>\n",
       "    </tr>\n",
       "    <tr>\n",
       "      <th>Door 3</th>\n",
       "      <td>1/3</td>\n",
       "      <td>0</td>\n",
       "    </tr>\n",
       "  </tbody>\n",
       "</table>\n",
       "</div>"
      ],
      "text/plain": [
       "       prior likelihood\n",
       "Door 1   1/3        1/2\n",
       "Door 2   1/3          1\n",
       "Door 3   1/3          0"
      ]
     },
     "execution_count": 16,
     "metadata": {},
     "output_type": "execute_result"
    }
   ],
   "source": [
    "table3['likelihood'] = Fraction(1,2),1,0\n",
    "table3"
   ]
  },
  {
   "cell_type": "markdown",
   "metadata": {},
   "source": [
    "Agora, sabendo que a porta 3 foi aberta e a porta 1 foi escolhida. A probabilidade de ganharmos o prêmio trocando da porta 1, para a porta 2, é dada por $P(C_2|A)$<br>Que é o resultado referente a linha ``Door 2`` na coluna ``posterior`` do ``DataFrame`` ``table3`` atualizado."
   ]
  },
  {
   "cell_type": "code",
   "execution_count": 17,
   "metadata": {},
   "outputs": [
    {
     "data": {
      "text/html": [
       "<div>\n",
       "<style scoped>\n",
       "    .dataframe tbody tr th:only-of-type {\n",
       "        vertical-align: middle;\n",
       "    }\n",
       "\n",
       "    .dataframe tbody tr th {\n",
       "        vertical-align: top;\n",
       "    }\n",
       "\n",
       "    .dataframe thead th {\n",
       "        text-align: right;\n",
       "    }\n",
       "</style>\n",
       "<table border=\"1\" class=\"dataframe\">\n",
       "  <thead>\n",
       "    <tr style=\"text-align: right;\">\n",
       "      <th></th>\n",
       "      <th>prior</th>\n",
       "      <th>likelihood</th>\n",
       "      <th>unnorm</th>\n",
       "      <th>posterior</th>\n",
       "    </tr>\n",
       "  </thead>\n",
       "  <tbody>\n",
       "    <tr>\n",
       "      <th>Door 1</th>\n",
       "      <td>1/3</td>\n",
       "      <td>1/2</td>\n",
       "      <td>1/6</td>\n",
       "      <td>1/3</td>\n",
       "    </tr>\n",
       "    <tr>\n",
       "      <th>Door 2</th>\n",
       "      <td>1/3</td>\n",
       "      <td>1</td>\n",
       "      <td>1/3</td>\n",
       "      <td>2/3</td>\n",
       "    </tr>\n",
       "    <tr>\n",
       "      <th>Door 3</th>\n",
       "      <td>1/3</td>\n",
       "      <td>0</td>\n",
       "      <td>0</td>\n",
       "      <td>0</td>\n",
       "    </tr>\n",
       "  </tbody>\n",
       "</table>\n",
       "</div>"
      ],
      "text/plain": [
       "       prior likelihood unnorm posterior\n",
       "Door 1   1/3        1/2    1/6       1/3\n",
       "Door 2   1/3          1    1/3       2/3\n",
       "Door 3   1/3          0      0         0"
      ]
     },
     "metadata": {},
     "output_type": "display_data"
    },
    {
     "data": {
      "text/plain": [
       "(Fraction(1, 2), None)"
      ]
     },
     "execution_count": 17,
     "metadata": {},
     "output_type": "execute_result"
    }
   ],
   "source": [
    "update(table3,True)"
   ]
  },
  {
   "cell_type": "code",
   "execution_count": null,
   "metadata": {},
   "outputs": [],
   "source": []
  }
 ],
 "metadata": {
  "kernelspec": {
   "display_name": "Python 3",
   "language": "python",
   "name": "python3"
  },
  "language_info": {
   "codemirror_mode": {
    "name": "ipython",
    "version": 3
   },
   "file_extension": ".py",
   "mimetype": "text/x-python",
   "name": "python",
   "nbconvert_exporter": "python",
   "pygments_lexer": "ipython3",
   "version": "3.7.6"
  }
 },
 "nbformat": 4,
 "nbformat_minor": 4
}
